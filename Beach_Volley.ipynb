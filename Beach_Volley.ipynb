{
 "cells": [
  {
   "cell_type": "markdown",
   "metadata": {},
   "source": [
    "# Setup #"
   ]
  },
  {
   "cell_type": "code",
   "execution_count": 1,
   "metadata": {
    "id": "Ns0C1lLH1HM4"
   },
   "outputs": [],
   "source": [
    "import pandas as pd\n",
    "#!pip install pandasql\n",
    "import pandasql as ps\n",
    "import numpy as np\n",
    "from plotnine import *"
   ]
  },
  {
   "cell_type": "markdown",
   "metadata": {},
   "source": [
    "# Get the Data #"
   ]
  },
  {
   "cell_type": "code",
   "execution_count": 4,
   "metadata": {
    "colab": {
     "base_uri": "https://localhost:8080/",
     "height": 392
    },
    "id": "eTC-7N_JuueV",
    "outputId": "5ec0e628-7dd1-4939-b9d1-d26384f326fa"
   },
   "outputs": [
    {
     "data": {
      "text/html": [
       "<div>\n",
       "<style scoped>\n",
       "    .dataframe tbody tr th:only-of-type {\n",
       "        vertical-align: middle;\n",
       "    }\n",
       "\n",
       "    .dataframe tbody tr th {\n",
       "        vertical-align: top;\n",
       "    }\n",
       "\n",
       "    .dataframe thead th {\n",
       "        text-align: right;\n",
       "    }\n",
       "</style>\n",
       "<table border=\"1\" class=\"dataframe\">\n",
       "  <thead>\n",
       "    <tr style=\"text-align: right;\">\n",
       "      <th></th>\n",
       "      <th>circuit</th>\n",
       "      <th>tournament</th>\n",
       "      <th>country</th>\n",
       "      <th>year</th>\n",
       "      <th>date</th>\n",
       "      <th>gender</th>\n",
       "      <th>match_num</th>\n",
       "      <th>w_player1</th>\n",
       "      <th>w_p1_birthdate</th>\n",
       "      <th>w_p1_age</th>\n",
       "      <th>...</th>\n",
       "      <th>l_p1_tot_blocks</th>\n",
       "      <th>l_p1_tot_digs</th>\n",
       "      <th>l_p2_tot_attacks</th>\n",
       "      <th>l_p2_tot_kills</th>\n",
       "      <th>l_p2_tot_errors</th>\n",
       "      <th>l_p2_tot_hitpct</th>\n",
       "      <th>l_p2_tot_aces</th>\n",
       "      <th>l_p2_tot_serve_errors</th>\n",
       "      <th>l_p2_tot_blocks</th>\n",
       "      <th>l_p2_tot_digs</th>\n",
       "    </tr>\n",
       "  </thead>\n",
       "  <tbody>\n",
       "    <tr>\n",
       "      <th>0</th>\n",
       "      <td>AVP</td>\n",
       "      <td>Huntington Beach</td>\n",
       "      <td>United States</td>\n",
       "      <td>2002</td>\n",
       "      <td>2002-05-24</td>\n",
       "      <td>M</td>\n",
       "      <td>1</td>\n",
       "      <td>Kevin Wong</td>\n",
       "      <td>1972-09-12</td>\n",
       "      <td>29.694730</td>\n",
       "      <td>...</td>\n",
       "      <td>0.0</td>\n",
       "      <td>NaN</td>\n",
       "      <td>NaN</td>\n",
       "      <td>NaN</td>\n",
       "      <td>NaN</td>\n",
       "      <td>NaN</td>\n",
       "      <td>0.0</td>\n",
       "      <td>NaN</td>\n",
       "      <td>1.0</td>\n",
       "      <td>NaN</td>\n",
       "    </tr>\n",
       "    <tr>\n",
       "      <th>1</th>\n",
       "      <td>AVP</td>\n",
       "      <td>Huntington Beach</td>\n",
       "      <td>United States</td>\n",
       "      <td>2002</td>\n",
       "      <td>2002-05-24</td>\n",
       "      <td>M</td>\n",
       "      <td>2</td>\n",
       "      <td>Brad Torsone</td>\n",
       "      <td>1975-01-14</td>\n",
       "      <td>27.356605</td>\n",
       "      <td>...</td>\n",
       "      <td>2.0</td>\n",
       "      <td>NaN</td>\n",
       "      <td>NaN</td>\n",
       "      <td>NaN</td>\n",
       "      <td>NaN</td>\n",
       "      <td>NaN</td>\n",
       "      <td>0.0</td>\n",
       "      <td>NaN</td>\n",
       "      <td>0.0</td>\n",
       "      <td>NaN</td>\n",
       "    </tr>\n",
       "    <tr>\n",
       "      <th>2</th>\n",
       "      <td>AVP</td>\n",
       "      <td>Huntington Beach</td>\n",
       "      <td>United States</td>\n",
       "      <td>2002</td>\n",
       "      <td>2002-05-24</td>\n",
       "      <td>M</td>\n",
       "      <td>3</td>\n",
       "      <td>Eduardo Bacil</td>\n",
       "      <td>1971-03-11</td>\n",
       "      <td>31.203285</td>\n",
       "      <td>...</td>\n",
       "      <td>1.0</td>\n",
       "      <td>NaN</td>\n",
       "      <td>NaN</td>\n",
       "      <td>NaN</td>\n",
       "      <td>NaN</td>\n",
       "      <td>NaN</td>\n",
       "      <td>0.0</td>\n",
       "      <td>NaN</td>\n",
       "      <td>0.0</td>\n",
       "      <td>NaN</td>\n",
       "    </tr>\n",
       "    <tr>\n",
       "      <th>3</th>\n",
       "      <td>AVP</td>\n",
       "      <td>Huntington Beach</td>\n",
       "      <td>United States</td>\n",
       "      <td>2002</td>\n",
       "      <td>2002-05-24</td>\n",
       "      <td>M</td>\n",
       "      <td>4</td>\n",
       "      <td>Brent Doble</td>\n",
       "      <td>1970-01-03</td>\n",
       "      <td>32.386037</td>\n",
       "      <td>...</td>\n",
       "      <td>2.0</td>\n",
       "      <td>NaN</td>\n",
       "      <td>NaN</td>\n",
       "      <td>NaN</td>\n",
       "      <td>NaN</td>\n",
       "      <td>NaN</td>\n",
       "      <td>2.0</td>\n",
       "      <td>NaN</td>\n",
       "      <td>0.0</td>\n",
       "      <td>NaN</td>\n",
       "    </tr>\n",
       "    <tr>\n",
       "      <th>4</th>\n",
       "      <td>AVP</td>\n",
       "      <td>Huntington Beach</td>\n",
       "      <td>United States</td>\n",
       "      <td>2002</td>\n",
       "      <td>2002-05-24</td>\n",
       "      <td>M</td>\n",
       "      <td>5</td>\n",
       "      <td>Albert Hannemann</td>\n",
       "      <td>1970-05-04</td>\n",
       "      <td>32.054757</td>\n",
       "      <td>...</td>\n",
       "      <td>0.0</td>\n",
       "      <td>NaN</td>\n",
       "      <td>NaN</td>\n",
       "      <td>NaN</td>\n",
       "      <td>NaN</td>\n",
       "      <td>NaN</td>\n",
       "      <td>0.0</td>\n",
       "      <td>NaN</td>\n",
       "      <td>1.0</td>\n",
       "      <td>NaN</td>\n",
       "    </tr>\n",
       "  </tbody>\n",
       "</table>\n",
       "<p>5 rows × 65 columns</p>\n",
       "</div>"
      ],
      "text/plain": [
       "  circuit        tournament        country  year        date gender  \\\n",
       "0     AVP  Huntington Beach  United States  2002  2002-05-24      M   \n",
       "1     AVP  Huntington Beach  United States  2002  2002-05-24      M   \n",
       "2     AVP  Huntington Beach  United States  2002  2002-05-24      M   \n",
       "3     AVP  Huntington Beach  United States  2002  2002-05-24      M   \n",
       "4     AVP  Huntington Beach  United States  2002  2002-05-24      M   \n",
       "\n",
       "   match_num         w_player1 w_p1_birthdate   w_p1_age  ...  \\\n",
       "0          1        Kevin Wong     1972-09-12  29.694730  ...   \n",
       "1          2      Brad Torsone     1975-01-14  27.356605  ...   \n",
       "2          3     Eduardo Bacil     1971-03-11  31.203285  ...   \n",
       "3          4       Brent Doble     1970-01-03  32.386037  ...   \n",
       "4          5  Albert Hannemann     1970-05-04  32.054757  ...   \n",
       "\n",
       "   l_p1_tot_blocks l_p1_tot_digs l_p2_tot_attacks l_p2_tot_kills  \\\n",
       "0              0.0           NaN              NaN            NaN   \n",
       "1              2.0           NaN              NaN            NaN   \n",
       "2              1.0           NaN              NaN            NaN   \n",
       "3              2.0           NaN              NaN            NaN   \n",
       "4              0.0           NaN              NaN            NaN   \n",
       "\n",
       "   l_p2_tot_errors  l_p2_tot_hitpct l_p2_tot_aces l_p2_tot_serve_errors  \\\n",
       "0              NaN              NaN           0.0                   NaN   \n",
       "1              NaN              NaN           0.0                   NaN   \n",
       "2              NaN              NaN           0.0                   NaN   \n",
       "3              NaN              NaN           2.0                   NaN   \n",
       "4              NaN              NaN           0.0                   NaN   \n",
       "\n",
       "  l_p2_tot_blocks l_p2_tot_digs  \n",
       "0             1.0           NaN  \n",
       "1             0.0           NaN  \n",
       "2             0.0           NaN  \n",
       "3             0.0           NaN  \n",
       "4             1.0           NaN  \n",
       "\n",
       "[5 rows x 65 columns]"
      ]
     },
     "execution_count": 4,
     "metadata": {},
     "output_type": "execute_result"
    }
   ],
   "source": [
    "url = ['https://raw.githubusercontent.com/BigTimeStats/beach-volleyball/master/data/full_archive/full_archive.csv']       \n",
    "\n",
    "df = pd.read_csv(url[0], index_col=None, header=0, encoding = \"latin-1\")\n",
    "\n",
    "df.head(5)"
   ]
  },
  {
   "cell_type": "code",
   "execution_count": 5,
   "metadata": {},
   "outputs": [
    {
     "name": "stdout",
     "output_type": "stream",
     "text": [
      "<class 'pandas.core.frame.DataFrame'>\n",
      "RangeIndex: 81232 entries, 0 to 81231\n",
      "Data columns (total 65 columns):\n",
      " #   Column                 Non-Null Count  Dtype  \n",
      "---  ------                 --------------  -----  \n",
      " 0   circuit                81232 non-null  object \n",
      " 1   tournament             81232 non-null  object \n",
      " 2   country                81232 non-null  object \n",
      " 3   year                   81232 non-null  int64  \n",
      " 4   date                   81232 non-null  object \n",
      " 5   gender                 81232 non-null  object \n",
      " 6   match_num              81232 non-null  int64  \n",
      " 7   w_player1              81232 non-null  object \n",
      " 8   w_p1_birthdate         80779 non-null  object \n",
      " 9   w_p1_age               80779 non-null  float64\n",
      " 10  w_p1_hgt               76423 non-null  float64\n",
      " 11  w_p1_country           81220 non-null  object \n",
      " 12  w_player2              81232 non-null  object \n",
      " 13  w_p2_birthdate         80759 non-null  object \n",
      " 14  w_p2_age               80759 non-null  float64\n",
      " 15  w_p2_hgt               76376 non-null  float64\n",
      " 16  w_p2_country           81225 non-null  object \n",
      " 17  w_rank                 81074 non-null  object \n",
      " 18  l_player1              81232 non-null  object \n",
      " 19  l_p1_birthdate         80084 non-null  object \n",
      " 20  l_p1_age               80084 non-null  float64\n",
      " 21  l_p1_hgt               73200 non-null  float64\n",
      " 22  l_p1_country           81213 non-null  object \n",
      " 23  l_player2              81232 non-null  object \n",
      " 24  l_p2_birthdate         80161 non-null  object \n",
      " 25  l_p2_age               80161 non-null  float64\n",
      " 26  l_p2_hgt               73227 non-null  float64\n",
      " 27  l_p2_country           81218 non-null  object \n",
      " 28  l_rank                 79943 non-null  object \n",
      " 29  score                  81208 non-null  object \n",
      " 30  duration               78761 non-null  object \n",
      " 31  bracket                81232 non-null  object \n",
      " 32  round                  75896 non-null  object \n",
      " 33  w_p1_tot_attacks       15020 non-null  float64\n",
      " 34  w_p1_tot_kills         15020 non-null  float64\n",
      " 35  w_p1_tot_errors        14785 non-null  float64\n",
      " 36  w_p1_tot_hitpct        15013 non-null  float64\n",
      " 37  w_p1_tot_aces          16638 non-null  float64\n",
      " 38  w_p1_tot_serve_errors  14781 non-null  float64\n",
      " 39  w_p1_tot_blocks        16638 non-null  float64\n",
      " 40  w_p1_tot_digs          15020 non-null  float64\n",
      " 41  w_p2_tot_attacks       15024 non-null  float64\n",
      " 42  w_p2_tot_kills         15024 non-null  float64\n",
      " 43  w_p2_tot_errors        14785 non-null  float64\n",
      " 44  w_p2_tot_hitpct        15017 non-null  float64\n",
      " 45  w_p2_tot_aces          16642 non-null  float64\n",
      " 46  w_p2_tot_serve_errors  14785 non-null  float64\n",
      " 47  w_p2_tot_blocks        16642 non-null  float64\n",
      " 48  w_p2_tot_digs          15024 non-null  float64\n",
      " 49  l_p1_tot_attacks       15019 non-null  float64\n",
      " 50  l_p1_tot_kills         15019 non-null  float64\n",
      " 51  l_p1_tot_errors        14785 non-null  float64\n",
      " 52  l_p1_tot_hitpct        15009 non-null  float64\n",
      " 53  l_p1_tot_aces          16637 non-null  float64\n",
      " 54  l_p1_tot_serve_errors  14780 non-null  float64\n",
      " 55  l_p1_tot_blocks        16637 non-null  float64\n",
      " 56  l_p1_tot_digs          15019 non-null  float64\n",
      " 57  l_p2_tot_attacks       15020 non-null  float64\n",
      " 58  l_p2_tot_kills         15020 non-null  float64\n",
      " 59  l_p2_tot_errors        14785 non-null  float64\n",
      " 60  l_p2_tot_hitpct        15009 non-null  float64\n",
      " 61  l_p2_tot_aces          16638 non-null  float64\n",
      " 62  l_p2_tot_serve_errors  14781 non-null  float64\n",
      " 63  l_p2_tot_blocks        16638 non-null  float64\n",
      " 64  l_p2_tot_digs          15020 non-null  float64\n",
      "dtypes: float64(40), int64(2), object(23)\n",
      "memory usage: 40.3+ MB\n"
     ]
    }
   ],
   "source": [
    "df.info()"
   ]
  },
  {
   "cell_type": "markdown",
   "metadata": {},
   "source": [
    "# Data Preparation #"
   ]
  },
  {
   "cell_type": "markdown",
   "metadata": {},
   "source": [
    "## Formatting ##"
   ]
  },
  {
   "cell_type": "markdown",
   "metadata": {},
   "source": [
    "### Duration Format Change ###"
   ]
  },
  {
   "cell_type": "code",
   "execution_count": 6,
   "metadata": {
    "id": "sln0NBSJ7Y0X"
   },
   "outputs": [],
   "source": [
    "df_new = df[df['duration'].notnull()]"
   ]
  },
  {
   "cell_type": "code",
   "execution_count": 7,
   "metadata": {
    "colab": {
     "base_uri": "https://localhost:8080/"
    },
    "id": "Pk2Nx0K92DTc",
    "outputId": "a19fab6b-cdf7-40ef-fe4f-0f52226c09d3"
   },
   "outputs": [
    {
     "name": "stdout",
     "output_type": "stream",
     "text": [
      "Time in Seconds: 1980\n"
     ]
    }
   ],
   "source": [
    "def get_seconds(time_str):\n",
    "    hh, mm = time_str.split(':')\n",
    "    return int(hh) * 3600 + int(mm) * 60 \n",
    "\n",
    "print('Time in Seconds:', get_seconds(df_new['duration'][0]))"
   ]
  },
  {
   "cell_type": "code",
   "execution_count": 8,
   "metadata": {
    "colab": {
     "base_uri": "https://localhost:8080/",
     "height": 876
    },
    "id": "iHXhWufN38Gb",
    "outputId": "4d9ea2d1-c0a9-4ea4-c560-53647246a4d5"
   },
   "outputs": [],
   "source": [
    "df_clean = df_new.copy()\n",
    "df_clean['duration_in_seconds'] = df_clean['duration'].apply(get_seconds)"
   ]
  },
  {
   "cell_type": "code",
   "execution_count": 9,
   "metadata": {
    "colab": {
     "base_uri": "https://localhost:8080/",
     "height": 766
    },
    "id": "O7NTXR9UEL2P",
    "outputId": "1c4ba473-6967-49fd-c593-7ef3381ce539"
   },
   "outputs": [
    {
     "data": {
      "text/html": [
       "<div>\n",
       "<style scoped>\n",
       "    .dataframe tbody tr th:only-of-type {\n",
       "        vertical-align: middle;\n",
       "    }\n",
       "\n",
       "    .dataframe tbody tr th {\n",
       "        vertical-align: top;\n",
       "    }\n",
       "\n",
       "    .dataframe thead th {\n",
       "        text-align: right;\n",
       "    }\n",
       "</style>\n",
       "<table border=\"1\" class=\"dataframe\">\n",
       "  <thead>\n",
       "    <tr style=\"text-align: right;\">\n",
       "      <th></th>\n",
       "      <th>circuit</th>\n",
       "      <th>tournament</th>\n",
       "      <th>country</th>\n",
       "      <th>year</th>\n",
       "      <th>date</th>\n",
       "      <th>gender</th>\n",
       "      <th>match_num</th>\n",
       "      <th>w_player1</th>\n",
       "      <th>w_p1_birthdate</th>\n",
       "      <th>w_p1_age</th>\n",
       "      <th>...</th>\n",
       "      <th>l_p1_tot_digs</th>\n",
       "      <th>l_p2_tot_attacks</th>\n",
       "      <th>l_p2_tot_kills</th>\n",
       "      <th>l_p2_tot_errors</th>\n",
       "      <th>l_p2_tot_hitpct</th>\n",
       "      <th>l_p2_tot_aces</th>\n",
       "      <th>l_p2_tot_serve_errors</th>\n",
       "      <th>l_p2_tot_blocks</th>\n",
       "      <th>l_p2_tot_digs</th>\n",
       "      <th>duration_in_seconds</th>\n",
       "    </tr>\n",
       "  </thead>\n",
       "  <tbody>\n",
       "    <tr>\n",
       "      <th>0</th>\n",
       "      <td>AVP</td>\n",
       "      <td>Huntington Beach</td>\n",
       "      <td>United States</td>\n",
       "      <td>2002</td>\n",
       "      <td>2002-05-24</td>\n",
       "      <td>M</td>\n",
       "      <td>1</td>\n",
       "      <td>Kevin Wong</td>\n",
       "      <td>1972-09-12</td>\n",
       "      <td>29.694730</td>\n",
       "      <td>...</td>\n",
       "      <td>NaN</td>\n",
       "      <td>NaN</td>\n",
       "      <td>NaN</td>\n",
       "      <td>NaN</td>\n",
       "      <td>NaN</td>\n",
       "      <td>0.0</td>\n",
       "      <td>NaN</td>\n",
       "      <td>1.0</td>\n",
       "      <td>NaN</td>\n",
       "      <td>1980</td>\n",
       "    </tr>\n",
       "    <tr>\n",
       "      <th>1</th>\n",
       "      <td>AVP</td>\n",
       "      <td>Huntington Beach</td>\n",
       "      <td>United States</td>\n",
       "      <td>2002</td>\n",
       "      <td>2002-05-24</td>\n",
       "      <td>M</td>\n",
       "      <td>2</td>\n",
       "      <td>Brad Torsone</td>\n",
       "      <td>1975-01-14</td>\n",
       "      <td>27.356605</td>\n",
       "      <td>...</td>\n",
       "      <td>NaN</td>\n",
       "      <td>NaN</td>\n",
       "      <td>NaN</td>\n",
       "      <td>NaN</td>\n",
       "      <td>NaN</td>\n",
       "      <td>0.0</td>\n",
       "      <td>NaN</td>\n",
       "      <td>0.0</td>\n",
       "      <td>NaN</td>\n",
       "      <td>3420</td>\n",
       "    </tr>\n",
       "    <tr>\n",
       "      <th>2</th>\n",
       "      <td>AVP</td>\n",
       "      <td>Huntington Beach</td>\n",
       "      <td>United States</td>\n",
       "      <td>2002</td>\n",
       "      <td>2002-05-24</td>\n",
       "      <td>M</td>\n",
       "      <td>3</td>\n",
       "      <td>Eduardo Bacil</td>\n",
       "      <td>1971-03-11</td>\n",
       "      <td>31.203285</td>\n",
       "      <td>...</td>\n",
       "      <td>NaN</td>\n",
       "      <td>NaN</td>\n",
       "      <td>NaN</td>\n",
       "      <td>NaN</td>\n",
       "      <td>NaN</td>\n",
       "      <td>0.0</td>\n",
       "      <td>NaN</td>\n",
       "      <td>0.0</td>\n",
       "      <td>NaN</td>\n",
       "      <td>2760</td>\n",
       "    </tr>\n",
       "    <tr>\n",
       "      <th>3</th>\n",
       "      <td>AVP</td>\n",
       "      <td>Huntington Beach</td>\n",
       "      <td>United States</td>\n",
       "      <td>2002</td>\n",
       "      <td>2002-05-24</td>\n",
       "      <td>M</td>\n",
       "      <td>4</td>\n",
       "      <td>Brent Doble</td>\n",
       "      <td>1970-01-03</td>\n",
       "      <td>32.386037</td>\n",
       "      <td>...</td>\n",
       "      <td>NaN</td>\n",
       "      <td>NaN</td>\n",
       "      <td>NaN</td>\n",
       "      <td>NaN</td>\n",
       "      <td>NaN</td>\n",
       "      <td>2.0</td>\n",
       "      <td>NaN</td>\n",
       "      <td>0.0</td>\n",
       "      <td>NaN</td>\n",
       "      <td>2640</td>\n",
       "    </tr>\n",
       "    <tr>\n",
       "      <th>4</th>\n",
       "      <td>AVP</td>\n",
       "      <td>Huntington Beach</td>\n",
       "      <td>United States</td>\n",
       "      <td>2002</td>\n",
       "      <td>2002-05-24</td>\n",
       "      <td>M</td>\n",
       "      <td>5</td>\n",
       "      <td>Albert Hannemann</td>\n",
       "      <td>1970-05-04</td>\n",
       "      <td>32.054757</td>\n",
       "      <td>...</td>\n",
       "      <td>NaN</td>\n",
       "      <td>NaN</td>\n",
       "      <td>NaN</td>\n",
       "      <td>NaN</td>\n",
       "      <td>NaN</td>\n",
       "      <td>0.0</td>\n",
       "      <td>NaN</td>\n",
       "      <td>1.0</td>\n",
       "      <td>NaN</td>\n",
       "      <td>4080</td>\n",
       "    </tr>\n",
       "    <tr>\n",
       "      <th>...</th>\n",
       "      <td>...</td>\n",
       "      <td>...</td>\n",
       "      <td>...</td>\n",
       "      <td>...</td>\n",
       "      <td>...</td>\n",
       "      <td>...</td>\n",
       "      <td>...</td>\n",
       "      <td>...</td>\n",
       "      <td>...</td>\n",
       "      <td>...</td>\n",
       "      <td>...</td>\n",
       "      <td>...</td>\n",
       "      <td>...</td>\n",
       "      <td>...</td>\n",
       "      <td>...</td>\n",
       "      <td>...</td>\n",
       "      <td>...</td>\n",
       "      <td>...</td>\n",
       "      <td>...</td>\n",
       "      <td>...</td>\n",
       "      <td>...</td>\n",
       "    </tr>\n",
       "    <tr>\n",
       "      <th>81227</th>\n",
       "      <td>FIVB</td>\n",
       "      <td>Itapema</td>\n",
       "      <td>Brazil</td>\n",
       "      <td>2021</td>\n",
       "      <td>2021-11-10</td>\n",
       "      <td>W</td>\n",
       "      <td>52</td>\n",
       "      <td>Hegeile Almeida</td>\n",
       "      <td>1995-10-30</td>\n",
       "      <td>26.031485</td>\n",
       "      <td>...</td>\n",
       "      <td>NaN</td>\n",
       "      <td>NaN</td>\n",
       "      <td>NaN</td>\n",
       "      <td>NaN</td>\n",
       "      <td>NaN</td>\n",
       "      <td>NaN</td>\n",
       "      <td>NaN</td>\n",
       "      <td>NaN</td>\n",
       "      <td>NaN</td>\n",
       "      <td>3120</td>\n",
       "    </tr>\n",
       "    <tr>\n",
       "      <th>81228</th>\n",
       "      <td>FIVB</td>\n",
       "      <td>Itapema</td>\n",
       "      <td>Brazil</td>\n",
       "      <td>2021</td>\n",
       "      <td>2021-11-10</td>\n",
       "      <td>W</td>\n",
       "      <td>53</td>\n",
       "      <td>Agatha Bednarczuk</td>\n",
       "      <td>1983-06-22</td>\n",
       "      <td>38.387406</td>\n",
       "      <td>...</td>\n",
       "      <td>NaN</td>\n",
       "      <td>NaN</td>\n",
       "      <td>NaN</td>\n",
       "      <td>NaN</td>\n",
       "      <td>NaN</td>\n",
       "      <td>NaN</td>\n",
       "      <td>NaN</td>\n",
       "      <td>NaN</td>\n",
       "      <td>NaN</td>\n",
       "      <td>2280</td>\n",
       "    </tr>\n",
       "    <tr>\n",
       "      <th>81229</th>\n",
       "      <td>FIVB</td>\n",
       "      <td>Itapema</td>\n",
       "      <td>Brazil</td>\n",
       "      <td>2021</td>\n",
       "      <td>2021-11-10</td>\n",
       "      <td>W</td>\n",
       "      <td>54</td>\n",
       "      <td>Hegeile Almeida</td>\n",
       "      <td>1995-10-30</td>\n",
       "      <td>26.031485</td>\n",
       "      <td>...</td>\n",
       "      <td>NaN</td>\n",
       "      <td>NaN</td>\n",
       "      <td>NaN</td>\n",
       "      <td>NaN</td>\n",
       "      <td>NaN</td>\n",
       "      <td>NaN</td>\n",
       "      <td>NaN</td>\n",
       "      <td>NaN</td>\n",
       "      <td>NaN</td>\n",
       "      <td>2460</td>\n",
       "    </tr>\n",
       "    <tr>\n",
       "      <th>81230</th>\n",
       "      <td>FIVB</td>\n",
       "      <td>Itapema</td>\n",
       "      <td>Brazil</td>\n",
       "      <td>2021</td>\n",
       "      <td>2021-11-10</td>\n",
       "      <td>W</td>\n",
       "      <td>55</td>\n",
       "      <td>Sara Hughes</td>\n",
       "      <td>1995-02-14</td>\n",
       "      <td>26.737851</td>\n",
       "      <td>...</td>\n",
       "      <td>NaN</td>\n",
       "      <td>NaN</td>\n",
       "      <td>NaN</td>\n",
       "      <td>NaN</td>\n",
       "      <td>NaN</td>\n",
       "      <td>NaN</td>\n",
       "      <td>NaN</td>\n",
       "      <td>NaN</td>\n",
       "      <td>NaN</td>\n",
       "      <td>2700</td>\n",
       "    </tr>\n",
       "    <tr>\n",
       "      <th>81231</th>\n",
       "      <td>FIVB</td>\n",
       "      <td>Itapema</td>\n",
       "      <td>Brazil</td>\n",
       "      <td>2021</td>\n",
       "      <td>2021-11-10</td>\n",
       "      <td>W</td>\n",
       "      <td>56</td>\n",
       "      <td>Agatha Bednarczuk</td>\n",
       "      <td>1983-06-22</td>\n",
       "      <td>38.387406</td>\n",
       "      <td>...</td>\n",
       "      <td>NaN</td>\n",
       "      <td>NaN</td>\n",
       "      <td>NaN</td>\n",
       "      <td>NaN</td>\n",
       "      <td>NaN</td>\n",
       "      <td>NaN</td>\n",
       "      <td>NaN</td>\n",
       "      <td>NaN</td>\n",
       "      <td>NaN</td>\n",
       "      <td>2880</td>\n",
       "    </tr>\n",
       "  </tbody>\n",
       "</table>\n",
       "<p>78761 rows × 66 columns</p>\n",
       "</div>"
      ],
      "text/plain": [
       "      circuit        tournament        country  year        date gender  \\\n",
       "0         AVP  Huntington Beach  United States  2002  2002-05-24      M   \n",
       "1         AVP  Huntington Beach  United States  2002  2002-05-24      M   \n",
       "2         AVP  Huntington Beach  United States  2002  2002-05-24      M   \n",
       "3         AVP  Huntington Beach  United States  2002  2002-05-24      M   \n",
       "4         AVP  Huntington Beach  United States  2002  2002-05-24      M   \n",
       "...       ...               ...            ...   ...         ...    ...   \n",
       "81227    FIVB           Itapema         Brazil  2021  2021-11-10      W   \n",
       "81228    FIVB           Itapema         Brazil  2021  2021-11-10      W   \n",
       "81229    FIVB           Itapema         Brazil  2021  2021-11-10      W   \n",
       "81230    FIVB           Itapema         Brazil  2021  2021-11-10      W   \n",
       "81231    FIVB           Itapema         Brazil  2021  2021-11-10      W   \n",
       "\n",
       "       match_num          w_player1 w_p1_birthdate   w_p1_age  ...  \\\n",
       "0              1         Kevin Wong     1972-09-12  29.694730  ...   \n",
       "1              2       Brad Torsone     1975-01-14  27.356605  ...   \n",
       "2              3      Eduardo Bacil     1971-03-11  31.203285  ...   \n",
       "3              4        Brent Doble     1970-01-03  32.386037  ...   \n",
       "4              5   Albert Hannemann     1970-05-04  32.054757  ...   \n",
       "...          ...                ...            ...        ...  ...   \n",
       "81227         52    Hegeile Almeida     1995-10-30  26.031485  ...   \n",
       "81228         53  Agatha Bednarczuk     1983-06-22  38.387406  ...   \n",
       "81229         54    Hegeile Almeida     1995-10-30  26.031485  ...   \n",
       "81230         55        Sara Hughes     1995-02-14  26.737851  ...   \n",
       "81231         56  Agatha Bednarczuk     1983-06-22  38.387406  ...   \n",
       "\n",
       "       l_p1_tot_digs l_p2_tot_attacks l_p2_tot_kills l_p2_tot_errors  \\\n",
       "0                NaN              NaN            NaN             NaN   \n",
       "1                NaN              NaN            NaN             NaN   \n",
       "2                NaN              NaN            NaN             NaN   \n",
       "3                NaN              NaN            NaN             NaN   \n",
       "4                NaN              NaN            NaN             NaN   \n",
       "...              ...              ...            ...             ...   \n",
       "81227            NaN              NaN            NaN             NaN   \n",
       "81228            NaN              NaN            NaN             NaN   \n",
       "81229            NaN              NaN            NaN             NaN   \n",
       "81230            NaN              NaN            NaN             NaN   \n",
       "81231            NaN              NaN            NaN             NaN   \n",
       "\n",
       "       l_p2_tot_hitpct  l_p2_tot_aces l_p2_tot_serve_errors l_p2_tot_blocks  \\\n",
       "0                  NaN            0.0                   NaN             1.0   \n",
       "1                  NaN            0.0                   NaN             0.0   \n",
       "2                  NaN            0.0                   NaN             0.0   \n",
       "3                  NaN            2.0                   NaN             0.0   \n",
       "4                  NaN            0.0                   NaN             1.0   \n",
       "...                ...            ...                   ...             ...   \n",
       "81227              NaN            NaN                   NaN             NaN   \n",
       "81228              NaN            NaN                   NaN             NaN   \n",
       "81229              NaN            NaN                   NaN             NaN   \n",
       "81230              NaN            NaN                   NaN             NaN   \n",
       "81231              NaN            NaN                   NaN             NaN   \n",
       "\n",
       "      l_p2_tot_digs duration_in_seconds  \n",
       "0               NaN                1980  \n",
       "1               NaN                3420  \n",
       "2               NaN                2760  \n",
       "3               NaN                2640  \n",
       "4               NaN                4080  \n",
       "...             ...                 ...  \n",
       "81227           NaN                3120  \n",
       "81228           NaN                2280  \n",
       "81229           NaN                2460  \n",
       "81230           NaN                2700  \n",
       "81231           NaN                2880  \n",
       "\n",
       "[78761 rows x 66 columns]"
      ]
     },
     "execution_count": 9,
     "metadata": {},
     "output_type": "execute_result"
    }
   ],
   "source": [
    "df_clean"
   ]
  },
  {
   "cell_type": "markdown",
   "metadata": {},
   "source": [
    "# Data Visualisation #"
   ]
  },
  {
   "cell_type": "markdown",
   "metadata": {},
   "source": [
    "## Game Duration over Time"
   ]
  },
  {
   "cell_type": "code",
   "execution_count": 39,
   "metadata": {},
   "outputs": [
    {
     "data": {
      "image/png": "[encoded data removed]",
      "text/plain": [
       "<Figure size 1600x800 with 1 Axes>"
      ]
     },
     "metadata": {},
     "output_type": "display_data"
    },
    {
     "data": {
      "text/plain": [
       "<ggplot: (8769543554961)>"
      ]
     },
     "execution_count": 39,
     "metadata": {},
     "output_type": "execute_result"
    }
   ],
   "source": [
    "df_clean['year_fact'] = df_clean['year'].astype(\"category\")\n",
    "\n",
    "ggplot(df_clean, aes(x='year_fact', y='duration_in_seconds')) + \\\n",
    "    geom_boxplot() + \\\n",
    "    theme(figure_size=(16, 8))  # here you define the plot size"
   ]
  },
  {
   "cell_type": "code",
   "execution_count": 41,
   "metadata": {},
   "outputs": [
    {
     "data": {
      "text/plain": [
       "circuit                            FIVB\n",
       "tournament               St. Petersburg\n",
       "country                   United States\n",
       "year                               2015\n",
       "date                         2015-06-17\n",
       "                              ...      \n",
       "l_p2_tot_serve_errors               NaN\n",
       "l_p2_tot_blocks                     NaN\n",
       "l_p2_tot_digs                       NaN\n",
       "duration_in_seconds                8040\n",
       "year_fact                          2015\n",
       "Name: 57793, Length: 67, dtype: object"
      ]
     },
     "execution_count": 41,
     "metadata": {},
     "output_type": "execute_result"
    }
   ],
   "source": [
    "df_clean.loc[df_clean['duration_in_seconds'].idxmax()]"
   ]
  },
  {
   "cell_type": "code",
   "execution_count": 37,
   "metadata": {},
   "outputs": [
    {
     "name": "stdout",
     "output_type": "stream",
     "text": [
      "The longest Beach Volleyball match lasted: 2.2333333333333334 hours\n"
     ]
    }
   ],
   "source": [
    "print('The longest Beach Volleyball match lasted: ' + str(df_clean['duration_in_seconds'].max() / 3600) + ' hours')"
   ]
  },
  {
   "cell_type": "markdown",
   "metadata": {},
   "source": [
    "## Age Development ##"
   ]
  },
  {
   "cell_type": "code",
   "execution_count": 65,
   "metadata": {},
   "outputs": [
    {
     "data": {
      "text/html": [
       "<div>\n",
       "<style scoped>\n",
       "    .dataframe tbody tr th:only-of-type {\n",
       "        vertical-align: middle;\n",
       "    }\n",
       "\n",
       "    .dataframe tbody tr th {\n",
       "        vertical-align: top;\n",
       "    }\n",
       "\n",
       "    .dataframe thead th {\n",
       "        text-align: right;\n",
       "    }\n",
       "</style>\n",
       "<table border=\"1\" class=\"dataframe\">\n",
       "  <thead>\n",
       "    <tr style=\"text-align: right;\">\n",
       "      <th></th>\n",
       "      <th>year</th>\n",
       "      <th>w_p1_age</th>\n",
       "      <th>w_p2_age</th>\n",
       "      <th>l_p1_age</th>\n",
       "      <th>l_p2_age</th>\n",
       "    </tr>\n",
       "  </thead>\n",
       "  <tbody>\n",
       "    <tr>\n",
       "      <th>0</th>\n",
       "      <td>2002</td>\n",
       "      <td>29.694730</td>\n",
       "      <td>29.514032</td>\n",
       "      <td>28.763860</td>\n",
       "      <td>25.434634</td>\n",
       "    </tr>\n",
       "    <tr>\n",
       "      <th>1</th>\n",
       "      <td>2002</td>\n",
       "      <td>27.356605</td>\n",
       "      <td>26.872006</td>\n",
       "      <td>31.211499</td>\n",
       "      <td>30.362765</td>\n",
       "    </tr>\n",
       "    <tr>\n",
       "      <th>2</th>\n",
       "      <td>2002</td>\n",
       "      <td>31.203285</td>\n",
       "      <td>30.028747</td>\n",
       "      <td>26.915811</td>\n",
       "      <td>26.995209</td>\n",
       "    </tr>\n",
       "    <tr>\n",
       "      <th>3</th>\n",
       "      <td>2002</td>\n",
       "      <td>32.386037</td>\n",
       "      <td>41.552361</td>\n",
       "      <td>29.270363</td>\n",
       "      <td>32.632444</td>\n",
       "    </tr>\n",
       "    <tr>\n",
       "      <th>4</th>\n",
       "      <td>2002</td>\n",
       "      <td>32.054757</td>\n",
       "      <td>29.804244</td>\n",
       "      <td>26.327173</td>\n",
       "      <td>24.161533</td>\n",
       "    </tr>\n",
       "    <tr>\n",
       "      <th>...</th>\n",
       "      <td>...</td>\n",
       "      <td>...</td>\n",
       "      <td>...</td>\n",
       "      <td>...</td>\n",
       "      <td>...</td>\n",
       "    </tr>\n",
       "    <tr>\n",
       "      <th>81227</th>\n",
       "      <td>2021</td>\n",
       "      <td>26.031485</td>\n",
       "      <td>37.456537</td>\n",
       "      <td>37.056810</td>\n",
       "      <td>21.330596</td>\n",
       "    </tr>\n",
       "    <tr>\n",
       "      <th>81228</th>\n",
       "      <td>2021</td>\n",
       "      <td>38.387406</td>\n",
       "      <td>23.277207</td>\n",
       "      <td>26.737851</td>\n",
       "      <td>26.110883</td>\n",
       "    </tr>\n",
       "    <tr>\n",
       "      <th>81229</th>\n",
       "      <td>2021</td>\n",
       "      <td>26.031485</td>\n",
       "      <td>37.456537</td>\n",
       "      <td>26.280630</td>\n",
       "      <td>22.151951</td>\n",
       "    </tr>\n",
       "    <tr>\n",
       "      <th>81230</th>\n",
       "      <td>2021</td>\n",
       "      <td>26.737851</td>\n",
       "      <td>26.110883</td>\n",
       "      <td>26.280630</td>\n",
       "      <td>22.151951</td>\n",
       "    </tr>\n",
       "    <tr>\n",
       "      <th>81231</th>\n",
       "      <td>2021</td>\n",
       "      <td>38.387406</td>\n",
       "      <td>23.277207</td>\n",
       "      <td>26.031485</td>\n",
       "      <td>37.456537</td>\n",
       "    </tr>\n",
       "  </tbody>\n",
       "</table>\n",
       "<p>78761 rows × 5 columns</p>\n",
       "</div>"
      ],
      "text/plain": [
       "       year   w_p1_age   w_p2_age   l_p1_age   l_p2_age\n",
       "0      2002  29.694730  29.514032  28.763860  25.434634\n",
       "1      2002  27.356605  26.872006  31.211499  30.362765\n",
       "2      2002  31.203285  30.028747  26.915811  26.995209\n",
       "3      2002  32.386037  41.552361  29.270363  32.632444\n",
       "4      2002  32.054757  29.804244  26.327173  24.161533\n",
       "...     ...        ...        ...        ...        ...\n",
       "81227  2021  26.031485  37.456537  37.056810  21.330596\n",
       "81228  2021  38.387406  23.277207  26.737851  26.110883\n",
       "81229  2021  26.031485  37.456537  26.280630  22.151951\n",
       "81230  2021  26.737851  26.110883  26.280630  22.151951\n",
       "81231  2021  38.387406  23.277207  26.031485  37.456537\n",
       "\n",
       "[78761 rows x 5 columns]"
      ]
     },
     "execution_count": 65,
     "metadata": {},
     "output_type": "execute_result"
    }
   ],
   "source": [
    "year_age = df_clean[['year', 'w_p1_age', 'w_p2_age', 'l_p1_age', 'l_p2_age']]\n",
    "year_age"
   ]
  },
  {
   "cell_type": "code",
   "execution_count": 71,
   "metadata": {},
   "outputs": [
    {
     "name": "stdout",
     "output_type": "stream",
     "text": [
      "[2002, 2003, 2004, 2005, 2006, 2007, 2008, 2009, 2010, 2013, 2014, 2015, 2016, 2017, 2000, 2001, 2011, 2012, 2018, 2019, 2020, 2021]\n"
     ]
    },
    {
     "ename": "KeyError",
     "evalue": "2002",
     "output_type": "error",
     "traceback": [
      "\u001b[0;31m---------------------------------------------------------------------------\u001b[0m",
      "\u001b[0;31mKeyError\u001b[0m                                  Traceback (most recent call last)",
      "\u001b[0;32m~/opt/anaconda3/lib/python3.8/site-packages/pandas/core/indexes/base.py\u001b[0m in \u001b[0;36mget_loc\u001b[0;34m(self, key, method, tolerance)\u001b[0m\n\u001b[1;32m   3079\u001b[0m             \u001b[0;32mtry\u001b[0m\u001b[0;34m:\u001b[0m\u001b[0;34m\u001b[0m\u001b[0;34m\u001b[0m\u001b[0m\n\u001b[0;32m-> 3080\u001b[0;31m                 \u001b[0;32mreturn\u001b[0m \u001b[0mself\u001b[0m\u001b[0;34m.\u001b[0m\u001b[0m_engine\u001b[0m\u001b[0;34m.\u001b[0m\u001b[0mget_loc\u001b[0m\u001b[0;34m(\u001b[0m\u001b[0mcasted_key\u001b[0m\u001b[0;34m)\u001b[0m\u001b[0;34m\u001b[0m\u001b[0;34m\u001b[0m\u001b[0m\n\u001b[0m\u001b[1;32m   3081\u001b[0m             \u001b[0;32mexcept\u001b[0m \u001b[0mKeyError\u001b[0m \u001b[0;32mas\u001b[0m \u001b[0merr\u001b[0m\u001b[0;34m:\u001b[0m\u001b[0;34m\u001b[0m\u001b[0;34m\u001b[0m\u001b[0m\n",
      "\u001b[0;32mpandas/_libs/index.pyx\u001b[0m in \u001b[0;36mpandas._libs.index.IndexEngine.get_loc\u001b[0;34m()\u001b[0m\n",
      "\u001b[0;32mpandas/_libs/index.pyx\u001b[0m in \u001b[0;36mpandas._libs.index.IndexEngine.get_loc\u001b[0;34m()\u001b[0m\n",
      "\u001b[0;32mpandas/_libs/hashtable_class_helper.pxi\u001b[0m in \u001b[0;36mpandas._libs.hashtable.PyObjectHashTable.get_item\u001b[0;34m()\u001b[0m\n",
      "\u001b[0;32mpandas/_libs/hashtable_class_helper.pxi\u001b[0m in \u001b[0;36mpandas._libs.hashtable.PyObjectHashTable.get_item\u001b[0;34m()\u001b[0m\n",
      "\u001b[0;31mKeyError\u001b[0m: 2002",
      "\nThe above exception was the direct cause of the following exception:\n",
      "\u001b[0;31mKeyError\u001b[0m                                  Traceback (most recent call last)",
      "\u001b[0;32m<ipython-input-71-64976d6eac80>\u001b[0m in \u001b[0;36m<module>\u001b[0;34m\u001b[0m\n\u001b[1;32m      6\u001b[0m \u001b[0;34m\u001b[0m\u001b[0m\n\u001b[1;32m      7\u001b[0m \u001b[0;32mfor\u001b[0m \u001b[0myear\u001b[0m \u001b[0;32min\u001b[0m \u001b[0myear_list\u001b[0m\u001b[0;34m:\u001b[0m\u001b[0;34m\u001b[0m\u001b[0;34m\u001b[0m\u001b[0m\n\u001b[0;32m----> 8\u001b[0;31m     \u001b[0mprint\u001b[0m\u001b[0;34m(\u001b[0m\u001b[0myear_age\u001b[0m\u001b[0;34m[\u001b[0m\u001b[0myear_list\u001b[0m\u001b[0;34m[\u001b[0m\u001b[0;36m0\u001b[0m\u001b[0;34m]\u001b[0m\u001b[0;34m]\u001b[0m\u001b[0;34m)\u001b[0m\u001b[0;34m\u001b[0m\u001b[0;34m\u001b[0m\u001b[0m\n\u001b[0m",
      "\u001b[0;32m~/opt/anaconda3/lib/python3.8/site-packages/pandas/core/frame.py\u001b[0m in \u001b[0;36m__getitem__\u001b[0;34m(self, key)\u001b[0m\n\u001b[1;32m   3022\u001b[0m             \u001b[0;32mif\u001b[0m \u001b[0mself\u001b[0m\u001b[0;34m.\u001b[0m\u001b[0mcolumns\u001b[0m\u001b[0;34m.\u001b[0m\u001b[0mnlevels\u001b[0m \u001b[0;34m>\u001b[0m \u001b[0;36m1\u001b[0m\u001b[0;34m:\u001b[0m\u001b[0;34m\u001b[0m\u001b[0;34m\u001b[0m\u001b[0m\n\u001b[1;32m   3023\u001b[0m                 \u001b[0;32mreturn\u001b[0m \u001b[0mself\u001b[0m\u001b[0;34m.\u001b[0m\u001b[0m_getitem_multilevel\u001b[0m\u001b[0;34m(\u001b[0m\u001b[0mkey\u001b[0m\u001b[0;34m)\u001b[0m\u001b[0;34m\u001b[0m\u001b[0;34m\u001b[0m\u001b[0m\n\u001b[0;32m-> 3024\u001b[0;31m             \u001b[0mindexer\u001b[0m \u001b[0;34m=\u001b[0m \u001b[0mself\u001b[0m\u001b[0;34m.\u001b[0m\u001b[0mcolumns\u001b[0m\u001b[0;34m.\u001b[0m\u001b[0mget_loc\u001b[0m\u001b[0;34m(\u001b[0m\u001b[0mkey\u001b[0m\u001b[0;34m)\u001b[0m\u001b[0;34m\u001b[0m\u001b[0;34m\u001b[0m\u001b[0m\n\u001b[0m\u001b[1;32m   3025\u001b[0m             \u001b[0;32mif\u001b[0m \u001b[0mis_integer\u001b[0m\u001b[0;34m(\u001b[0m\u001b[0mindexer\u001b[0m\u001b[0;34m)\u001b[0m\u001b[0;34m:\u001b[0m\u001b[0;34m\u001b[0m\u001b[0;34m\u001b[0m\u001b[0m\n\u001b[1;32m   3026\u001b[0m                 \u001b[0mindexer\u001b[0m \u001b[0;34m=\u001b[0m \u001b[0;34m[\u001b[0m\u001b[0mindexer\u001b[0m\u001b[0;34m]\u001b[0m\u001b[0;34m\u001b[0m\u001b[0;34m\u001b[0m\u001b[0m\n",
      "\u001b[0;32m~/opt/anaconda3/lib/python3.8/site-packages/pandas/core/indexes/base.py\u001b[0m in \u001b[0;36mget_loc\u001b[0;34m(self, key, method, tolerance)\u001b[0m\n\u001b[1;32m   3080\u001b[0m                 \u001b[0;32mreturn\u001b[0m \u001b[0mself\u001b[0m\u001b[0;34m.\u001b[0m\u001b[0m_engine\u001b[0m\u001b[0;34m.\u001b[0m\u001b[0mget_loc\u001b[0m\u001b[0;34m(\u001b[0m\u001b[0mcasted_key\u001b[0m\u001b[0;34m)\u001b[0m\u001b[0;34m\u001b[0m\u001b[0;34m\u001b[0m\u001b[0m\n\u001b[1;32m   3081\u001b[0m             \u001b[0;32mexcept\u001b[0m \u001b[0mKeyError\u001b[0m \u001b[0;32mas\u001b[0m \u001b[0merr\u001b[0m\u001b[0;34m:\u001b[0m\u001b[0;34m\u001b[0m\u001b[0;34m\u001b[0m\u001b[0m\n\u001b[0;32m-> 3082\u001b[0;31m                 \u001b[0;32mraise\u001b[0m \u001b[0mKeyError\u001b[0m\u001b[0;34m(\u001b[0m\u001b[0mkey\u001b[0m\u001b[0;34m)\u001b[0m \u001b[0;32mfrom\u001b[0m \u001b[0merr\u001b[0m\u001b[0;34m\u001b[0m\u001b[0;34m\u001b[0m\u001b[0m\n\u001b[0m\u001b[1;32m   3083\u001b[0m \u001b[0;34m\u001b[0m\u001b[0m\n\u001b[1;32m   3084\u001b[0m         \u001b[0;32mif\u001b[0m \u001b[0mtolerance\u001b[0m \u001b[0;32mis\u001b[0m \u001b[0;32mnot\u001b[0m \u001b[0;32mNone\u001b[0m\u001b[0;34m:\u001b[0m\u001b[0;34m\u001b[0m\u001b[0;34m\u001b[0m\u001b[0m\n",
      "\u001b[0;31mKeyError\u001b[0m: 2002"
     ]
    }
   ],
   "source": [
    "year_list = []\n",
    "for year in year_age['year'].unique():\n",
    "    year_list.append(year)\n",
    "\n",
    "print(year_list)\n",
    "\n",
    "for element in year_list:\n",
    "    "
   ]
  },
  {
   "cell_type": "code",
   "execution_count": 73,
   "metadata": {},
   "outputs": [
    {
     "ename": "KeyError",
     "evalue": "2002",
     "output_type": "error",
     "traceback": [
      "\u001b[0;31m---------------------------------------------------------------------------\u001b[0m",
      "\u001b[0;31mKeyError\u001b[0m                                  Traceback (most recent call last)",
      "\u001b[0;32m~/opt/anaconda3/lib/python3.8/site-packages/pandas/core/indexes/base.py\u001b[0m in \u001b[0;36mget_loc\u001b[0;34m(self, key, method, tolerance)\u001b[0m\n\u001b[1;32m   3079\u001b[0m             \u001b[0;32mtry\u001b[0m\u001b[0;34m:\u001b[0m\u001b[0;34m\u001b[0m\u001b[0;34m\u001b[0m\u001b[0m\n\u001b[0;32m-> 3080\u001b[0;31m                 \u001b[0;32mreturn\u001b[0m \u001b[0mself\u001b[0m\u001b[0;34m.\u001b[0m\u001b[0m_engine\u001b[0m\u001b[0;34m.\u001b[0m\u001b[0mget_loc\u001b[0m\u001b[0;34m(\u001b[0m\u001b[0mcasted_key\u001b[0m\u001b[0;34m)\u001b[0m\u001b[0;34m\u001b[0m\u001b[0;34m\u001b[0m\u001b[0m\n\u001b[0m\u001b[1;32m   3081\u001b[0m             \u001b[0;32mexcept\u001b[0m \u001b[0mKeyError\u001b[0m \u001b[0;32mas\u001b[0m \u001b[0merr\u001b[0m\u001b[0;34m:\u001b[0m\u001b[0;34m\u001b[0m\u001b[0;34m\u001b[0m\u001b[0m\n",
      "\u001b[0;32mpandas/_libs/index.pyx\u001b[0m in \u001b[0;36mpandas._libs.index.IndexEngine.get_loc\u001b[0;34m()\u001b[0m\n",
      "\u001b[0;32mpandas/_libs/index.pyx\u001b[0m in \u001b[0;36mpandas._libs.index.IndexEngine.get_loc\u001b[0;34m()\u001b[0m\n",
      "\u001b[0;32mpandas/_libs/hashtable_class_helper.pxi\u001b[0m in \u001b[0;36mpandas._libs.hashtable.PyObjectHashTable.get_item\u001b[0;34m()\u001b[0m\n",
      "\u001b[0;32mpandas/_libs/hashtable_class_helper.pxi\u001b[0m in \u001b[0;36mpandas._libs.hashtable.PyObjectHashTable.get_item\u001b[0;34m()\u001b[0m\n",
      "\u001b[0;31mKeyError\u001b[0m: 2002",
      "\nThe above exception was the direct cause of the following exception:\n",
      "\u001b[0;31mKeyError\u001b[0m                                  Traceback (most recent call last)",
      "\u001b[0;32m<ipython-input-73-4b5eb5539e01>\u001b[0m in \u001b[0;36m<module>\u001b[0;34m\u001b[0m\n\u001b[0;32m----> 1\u001b[0;31m \u001b[0mcol_one_list\u001b[0m \u001b[0;34m=\u001b[0m \u001b[0myear_age\u001b[0m\u001b[0;34m[\u001b[0m\u001b[0;36m2002\u001b[0m\u001b[0;34m]\u001b[0m\u001b[0;34m.\u001b[0m\u001b[0mtolist\u001b[0m\u001b[0;34m(\u001b[0m\u001b[0;34m)\u001b[0m\u001b[0;34m\u001b[0m\u001b[0;34m\u001b[0m\u001b[0m\n\u001b[0m",
      "\u001b[0;32m~/opt/anaconda3/lib/python3.8/site-packages/pandas/core/frame.py\u001b[0m in \u001b[0;36m__getitem__\u001b[0;34m(self, key)\u001b[0m\n\u001b[1;32m   3022\u001b[0m             \u001b[0;32mif\u001b[0m \u001b[0mself\u001b[0m\u001b[0;34m.\u001b[0m\u001b[0mcolumns\u001b[0m\u001b[0;34m.\u001b[0m\u001b[0mnlevels\u001b[0m \u001b[0;34m>\u001b[0m \u001b[0;36m1\u001b[0m\u001b[0;34m:\u001b[0m\u001b[0;34m\u001b[0m\u001b[0;34m\u001b[0m\u001b[0m\n\u001b[1;32m   3023\u001b[0m                 \u001b[0;32mreturn\u001b[0m \u001b[0mself\u001b[0m\u001b[0;34m.\u001b[0m\u001b[0m_getitem_multilevel\u001b[0m\u001b[0;34m(\u001b[0m\u001b[0mkey\u001b[0m\u001b[0;34m)\u001b[0m\u001b[0;34m\u001b[0m\u001b[0;34m\u001b[0m\u001b[0m\n\u001b[0;32m-> 3024\u001b[0;31m             \u001b[0mindexer\u001b[0m \u001b[0;34m=\u001b[0m \u001b[0mself\u001b[0m\u001b[0;34m.\u001b[0m\u001b[0mcolumns\u001b[0m\u001b[0;34m.\u001b[0m\u001b[0mget_loc\u001b[0m\u001b[0;34m(\u001b[0m\u001b[0mkey\u001b[0m\u001b[0;34m)\u001b[0m\u001b[0;34m\u001b[0m\u001b[0;34m\u001b[0m\u001b[0m\n\u001b[0m\u001b[1;32m   3025\u001b[0m             \u001b[0;32mif\u001b[0m \u001b[0mis_integer\u001b[0m\u001b[0;34m(\u001b[0m\u001b[0mindexer\u001b[0m\u001b[0;34m)\u001b[0m\u001b[0;34m:\u001b[0m\u001b[0;34m\u001b[0m\u001b[0;34m\u001b[0m\u001b[0m\n\u001b[1;32m   3026\u001b[0m                 \u001b[0mindexer\u001b[0m \u001b[0;34m=\u001b[0m \u001b[0;34m[\u001b[0m\u001b[0mindexer\u001b[0m\u001b[0;34m]\u001b[0m\u001b[0;34m\u001b[0m\u001b[0;34m\u001b[0m\u001b[0m\n",
      "\u001b[0;32m~/opt/anaconda3/lib/python3.8/site-packages/pandas/core/indexes/base.py\u001b[0m in \u001b[0;36mget_loc\u001b[0;34m(self, key, method, tolerance)\u001b[0m\n\u001b[1;32m   3080\u001b[0m                 \u001b[0;32mreturn\u001b[0m \u001b[0mself\u001b[0m\u001b[0;34m.\u001b[0m\u001b[0m_engine\u001b[0m\u001b[0;34m.\u001b[0m\u001b[0mget_loc\u001b[0m\u001b[0;34m(\u001b[0m\u001b[0mcasted_key\u001b[0m\u001b[0;34m)\u001b[0m\u001b[0;34m\u001b[0m\u001b[0;34m\u001b[0m\u001b[0m\n\u001b[1;32m   3081\u001b[0m             \u001b[0;32mexcept\u001b[0m \u001b[0mKeyError\u001b[0m \u001b[0;32mas\u001b[0m \u001b[0merr\u001b[0m\u001b[0;34m:\u001b[0m\u001b[0;34m\u001b[0m\u001b[0;34m\u001b[0m\u001b[0m\n\u001b[0;32m-> 3082\u001b[0;31m                 \u001b[0;32mraise\u001b[0m \u001b[0mKeyError\u001b[0m\u001b[0;34m(\u001b[0m\u001b[0mkey\u001b[0m\u001b[0;34m)\u001b[0m \u001b[0;32mfrom\u001b[0m \u001b[0merr\u001b[0m\u001b[0;34m\u001b[0m\u001b[0;34m\u001b[0m\u001b[0m\n\u001b[0m\u001b[1;32m   3083\u001b[0m \u001b[0;34m\u001b[0m\u001b[0m\n\u001b[1;32m   3084\u001b[0m         \u001b[0;32mif\u001b[0m \u001b[0mtolerance\u001b[0m \u001b[0;32mis\u001b[0m \u001b[0;32mnot\u001b[0m \u001b[0;32mNone\u001b[0m\u001b[0;34m:\u001b[0m\u001b[0;34m\u001b[0m\u001b[0;34m\u001b[0m\u001b[0m\n",
      "\u001b[0;31mKeyError\u001b[0m: 2002"
     ]
    }
   ],
   "source": [
    "col_one_list = year_age[2002].tolist()"
   ]
  },
  {
   "cell_type": "code",
   "execution_count": 61,
   "metadata": {},
   "outputs": [
    {
     "data": {
      "text/plain": [
       "<AxesSubplot:>"
      ]
     },
     "execution_count": 61,
     "metadata": {},
     "output_type": "execute_result"
    },
    {
     "data": {
      "image/png": "[encoded data removed]",
      "text/plain": [
       "<Figure size 432x288 with 1 Axes>"
      ]
     },
     "metadata": {
      "needs_background": "light"
     },
     "output_type": "display_data"
    }
   ],
   "source": [
    "sns.boxplot(data=year_age)"
   ]
  },
  {
   "cell_type": "code",
   "execution_count": 62,
   "metadata": {},
   "outputs": [
    {
     "data": {
      "image/png": "[encoded data removed]",
      "text/plain": [
       "<Figure size 432x288 with 25 Axes>"
      ]
     },
     "metadata": {
      "needs_background": "light"
     },
     "output_type": "display_data"
    }
   ],
   "source": [
    "#year_age2 = year_age.groupby('year')\n",
    "year_age.groupby(\"year\").boxplot(column=\"year\");"
   ]
  },
  {
   "cell_type": "code",
   "execution_count": 43,
   "metadata": {},
   "outputs": [
    {
     "ename": "PlotnineError",
     "evalue": "\"Could not evaluate the 'y' mapping: 'age' (original error: name 'age' is not defined)\"",
     "output_type": "error",
     "traceback": [
      "\u001b[0;31m---------------------------------------------------------------------------\u001b[0m",
      "\u001b[0;31mNameError\u001b[0m                                 Traceback (most recent call last)",
      "\u001b[0;32m~/opt/anaconda3/lib/python3.8/site-packages/plotnine/mapping/evaluation.py\u001b[0m in \u001b[0;36mevaluate\u001b[0;34m(aesthetics, data, env)\u001b[0m\n\u001b[1;32m    216\u001b[0m                 \u001b[0;32mtry\u001b[0m\u001b[0;34m:\u001b[0m\u001b[0;34m\u001b[0m\u001b[0;34m\u001b[0m\u001b[0m\n\u001b[0;32m--> 217\u001b[0;31m                     \u001b[0mnew_val\u001b[0m \u001b[0;34m=\u001b[0m \u001b[0menv\u001b[0m\u001b[0;34m.\u001b[0m\u001b[0meval\u001b[0m\u001b[0;34m(\u001b[0m\u001b[0mcol\u001b[0m\u001b[0;34m,\u001b[0m \u001b[0minner_namespace\u001b[0m\u001b[0;34m=\u001b[0m\u001b[0mdata\u001b[0m\u001b[0;34m)\u001b[0m\u001b[0;34m\u001b[0m\u001b[0;34m\u001b[0m\u001b[0m\n\u001b[0m\u001b[1;32m    218\u001b[0m                 \u001b[0;32mexcept\u001b[0m \u001b[0mException\u001b[0m \u001b[0;32mas\u001b[0m \u001b[0me\u001b[0m\u001b[0;34m:\u001b[0m\u001b[0;34m\u001b[0m\u001b[0;34m\u001b[0m\u001b[0m\n",
      "\u001b[0;32m~/opt/anaconda3/lib/python3.8/site-packages/patsy/eval.py\u001b[0m in \u001b[0;36meval\u001b[0;34m(self, expr, source_name, inner_namespace)\u001b[0m\n\u001b[1;32m    164\u001b[0m         \u001b[0mcode\u001b[0m \u001b[0;34m=\u001b[0m \u001b[0mcompile\u001b[0m\u001b[0;34m(\u001b[0m\u001b[0mexpr\u001b[0m\u001b[0;34m,\u001b[0m \u001b[0msource_name\u001b[0m\u001b[0;34m,\u001b[0m \u001b[0;34m\"eval\"\u001b[0m\u001b[0;34m,\u001b[0m \u001b[0mself\u001b[0m\u001b[0;34m.\u001b[0m\u001b[0mflags\u001b[0m\u001b[0;34m,\u001b[0m \u001b[0;32mFalse\u001b[0m\u001b[0;34m)\u001b[0m\u001b[0;34m\u001b[0m\u001b[0;34m\u001b[0m\u001b[0m\n\u001b[0;32m--> 165\u001b[0;31m         return eval(code, {}, VarLookupDict([inner_namespace]\n\u001b[0m\u001b[1;32m    166\u001b[0m                                             + self._namespaces))\n",
      "\u001b[0;32m<string>\u001b[0m in \u001b[0;36m<module>\u001b[0;34m\u001b[0m\n",
      "\u001b[0;31mNameError\u001b[0m: name 'age' is not defined",
      "\nDuring handling of the above exception, another exception occurred:\n",
      "\u001b[0;31mPlotnineError\u001b[0m                             Traceback (most recent call last)",
      "\u001b[0;32m~/opt/anaconda3/lib/python3.8/site-packages/IPython/core/formatters.py\u001b[0m in \u001b[0;36m__call__\u001b[0;34m(self, obj)\u001b[0m\n\u001b[1;32m    700\u001b[0m                 \u001b[0mtype_pprinters\u001b[0m\u001b[0;34m=\u001b[0m\u001b[0mself\u001b[0m\u001b[0;34m.\u001b[0m\u001b[0mtype_printers\u001b[0m\u001b[0;34m,\u001b[0m\u001b[0;34m\u001b[0m\u001b[0;34m\u001b[0m\u001b[0m\n\u001b[1;32m    701\u001b[0m                 deferred_pprinters=self.deferred_printers)\n\u001b[0;32m--> 702\u001b[0;31m             \u001b[0mprinter\u001b[0m\u001b[0;34m.\u001b[0m\u001b[0mpretty\u001b[0m\u001b[0;34m(\u001b[0m\u001b[0mobj\u001b[0m\u001b[0;34m)\u001b[0m\u001b[0;34m\u001b[0m\u001b[0;34m\u001b[0m\u001b[0m\n\u001b[0m\u001b[1;32m    703\u001b[0m             \u001b[0mprinter\u001b[0m\u001b[0;34m.\u001b[0m\u001b[0mflush\u001b[0m\u001b[0;34m(\u001b[0m\u001b[0;34m)\u001b[0m\u001b[0;34m\u001b[0m\u001b[0;34m\u001b[0m\u001b[0m\n\u001b[1;32m    704\u001b[0m             \u001b[0;32mreturn\u001b[0m \u001b[0mstream\u001b[0m\u001b[0;34m.\u001b[0m\u001b[0mgetvalue\u001b[0m\u001b[0;34m(\u001b[0m\u001b[0;34m)\u001b[0m\u001b[0;34m\u001b[0m\u001b[0;34m\u001b[0m\u001b[0m\n",
      "\u001b[0;32m~/opt/anaconda3/lib/python3.8/site-packages/IPython/lib/pretty.py\u001b[0m in \u001b[0;36mpretty\u001b[0;34m(self, obj)\u001b[0m\n\u001b[1;32m    392\u001b[0m                         \u001b[0;32mif\u001b[0m \u001b[0mcls\u001b[0m \u001b[0;32mis\u001b[0m \u001b[0;32mnot\u001b[0m \u001b[0mobject\u001b[0m\u001b[0;31m \u001b[0m\u001b[0;31m\\\u001b[0m\u001b[0;34m\u001b[0m\u001b[0;34m\u001b[0m\u001b[0m\n\u001b[1;32m    393\u001b[0m                                 \u001b[0;32mand\u001b[0m \u001b[0mcallable\u001b[0m\u001b[0;34m(\u001b[0m\u001b[0mcls\u001b[0m\u001b[0;34m.\u001b[0m\u001b[0m__dict__\u001b[0m\u001b[0;34m.\u001b[0m\u001b[0mget\u001b[0m\u001b[0;34m(\u001b[0m\u001b[0;34m'__repr__'\u001b[0m\u001b[0;34m)\u001b[0m\u001b[0;34m)\u001b[0m\u001b[0;34m:\u001b[0m\u001b[0;34m\u001b[0m\u001b[0;34m\u001b[0m\u001b[0m\n\u001b[0;32m--> 394\u001b[0;31m                             \u001b[0;32mreturn\u001b[0m \u001b[0m_repr_pprint\u001b[0m\u001b[0;34m(\u001b[0m\u001b[0mobj\u001b[0m\u001b[0;34m,\u001b[0m \u001b[0mself\u001b[0m\u001b[0;34m,\u001b[0m \u001b[0mcycle\u001b[0m\u001b[0;34m)\u001b[0m\u001b[0;34m\u001b[0m\u001b[0;34m\u001b[0m\u001b[0m\n\u001b[0m\u001b[1;32m    395\u001b[0m \u001b[0;34m\u001b[0m\u001b[0m\n\u001b[1;32m    396\u001b[0m             \u001b[0;32mreturn\u001b[0m \u001b[0m_default_pprint\u001b[0m\u001b[0;34m(\u001b[0m\u001b[0mobj\u001b[0m\u001b[0;34m,\u001b[0m \u001b[0mself\u001b[0m\u001b[0;34m,\u001b[0m \u001b[0mcycle\u001b[0m\u001b[0;34m)\u001b[0m\u001b[0;34m\u001b[0m\u001b[0;34m\u001b[0m\u001b[0m\n",
      "\u001b[0;32m~/opt/anaconda3/lib/python3.8/site-packages/IPython/lib/pretty.py\u001b[0m in \u001b[0;36m_repr_pprint\u001b[0;34m(obj, p, cycle)\u001b[0m\n\u001b[1;32m    698\u001b[0m     \u001b[0;34m\"\"\"A pprint that just redirects to the normal repr function.\"\"\"\u001b[0m\u001b[0;34m\u001b[0m\u001b[0;34m\u001b[0m\u001b[0m\n\u001b[1;32m    699\u001b[0m     \u001b[0;31m# Find newlines and replace them with p.break_()\u001b[0m\u001b[0;34m\u001b[0m\u001b[0;34m\u001b[0m\u001b[0;34m\u001b[0m\u001b[0m\n\u001b[0;32m--> 700\u001b[0;31m     \u001b[0moutput\u001b[0m \u001b[0;34m=\u001b[0m \u001b[0mrepr\u001b[0m\u001b[0;34m(\u001b[0m\u001b[0mobj\u001b[0m\u001b[0;34m)\u001b[0m\u001b[0;34m\u001b[0m\u001b[0;34m\u001b[0m\u001b[0m\n\u001b[0m\u001b[1;32m    701\u001b[0m     \u001b[0mlines\u001b[0m \u001b[0;34m=\u001b[0m \u001b[0moutput\u001b[0m\u001b[0;34m.\u001b[0m\u001b[0msplitlines\u001b[0m\u001b[0;34m(\u001b[0m\u001b[0;34m)\u001b[0m\u001b[0;34m\u001b[0m\u001b[0;34m\u001b[0m\u001b[0m\n\u001b[1;32m    702\u001b[0m     \u001b[0;32mwith\u001b[0m \u001b[0mp\u001b[0m\u001b[0;34m.\u001b[0m\u001b[0mgroup\u001b[0m\u001b[0;34m(\u001b[0m\u001b[0;34m)\u001b[0m\u001b[0;34m:\u001b[0m\u001b[0;34m\u001b[0m\u001b[0;34m\u001b[0m\u001b[0m\n",
      "\u001b[0;32m~/opt/anaconda3/lib/python3.8/site-packages/plotnine/ggplot.py\u001b[0m in \u001b[0;36m__repr__\u001b[0;34m(self)\u001b[0m\n\u001b[1;32m     95\u001b[0m         \u001b[0mPrint\u001b[0m\u001b[0;34m/\u001b[0m\u001b[0mshow\u001b[0m \u001b[0mthe\u001b[0m \u001b[0mplot\u001b[0m\u001b[0;34m\u001b[0m\u001b[0;34m\u001b[0m\u001b[0m\n\u001b[1;32m     96\u001b[0m         \"\"\"\n\u001b[0;32m---> 97\u001b[0;31m         \u001b[0mself\u001b[0m\u001b[0;34m.\u001b[0m\u001b[0m__str__\u001b[0m\u001b[0;34m(\u001b[0m\u001b[0;34m)\u001b[0m\u001b[0;34m\u001b[0m\u001b[0;34m\u001b[0m\u001b[0m\n\u001b[0m\u001b[1;32m     98\u001b[0m         \u001b[0;32mreturn\u001b[0m \u001b[0;34m'<ggplot: (%d)>'\u001b[0m \u001b[0;34m%\u001b[0m \u001b[0mself\u001b[0m\u001b[0;34m.\u001b[0m\u001b[0m__hash__\u001b[0m\u001b[0;34m(\u001b[0m\u001b[0;34m)\u001b[0m\u001b[0;34m\u001b[0m\u001b[0;34m\u001b[0m\u001b[0m\n\u001b[1;32m     99\u001b[0m \u001b[0;34m\u001b[0m\u001b[0m\n",
      "\u001b[0;32m~/opt/anaconda3/lib/python3.8/site-packages/plotnine/ggplot.py\u001b[0m in \u001b[0;36m__str__\u001b[0;34m(self)\u001b[0m\n\u001b[1;32m     86\u001b[0m         \u001b[0mPrint\u001b[0m\u001b[0;34m/\u001b[0m\u001b[0mshow\u001b[0m \u001b[0mthe\u001b[0m \u001b[0mplot\u001b[0m\u001b[0;34m\u001b[0m\u001b[0;34m\u001b[0m\u001b[0m\n\u001b[1;32m     87\u001b[0m         \"\"\"\n\u001b[0;32m---> 88\u001b[0;31m         \u001b[0mself\u001b[0m\u001b[0;34m.\u001b[0m\u001b[0mdraw\u001b[0m\u001b[0;34m(\u001b[0m\u001b[0mshow\u001b[0m\u001b[0;34m=\u001b[0m\u001b[0;32mTrue\u001b[0m\u001b[0;34m)\u001b[0m\u001b[0;34m\u001b[0m\u001b[0;34m\u001b[0m\u001b[0m\n\u001b[0m\u001b[1;32m     89\u001b[0m \u001b[0;34m\u001b[0m\u001b[0m\n\u001b[1;32m     90\u001b[0m         \u001b[0;31m# Return and empty string so that print(p) is \"pretty\"\u001b[0m\u001b[0;34m\u001b[0m\u001b[0;34m\u001b[0m\u001b[0;34m\u001b[0m\u001b[0m\n",
      "\u001b[0;32m~/opt/anaconda3/lib/python3.8/site-packages/plotnine/ggplot.py\u001b[0m in \u001b[0;36mdraw\u001b[0;34m(self, return_ggplot, show)\u001b[0m\n\u001b[1;32m    203\u001b[0m         \u001b[0mself\u001b[0m \u001b[0;34m=\u001b[0m \u001b[0mdeepcopy\u001b[0m\u001b[0;34m(\u001b[0m\u001b[0mself\u001b[0m\u001b[0;34m)\u001b[0m\u001b[0;34m\u001b[0m\u001b[0;34m\u001b[0m\u001b[0m\n\u001b[1;32m    204\u001b[0m         \u001b[0;32mwith\u001b[0m \u001b[0mplot_context\u001b[0m\u001b[0;34m(\u001b[0m\u001b[0mself\u001b[0m\u001b[0;34m,\u001b[0m \u001b[0mshow\u001b[0m\u001b[0;34m=\u001b[0m\u001b[0mshow\u001b[0m\u001b[0;34m)\u001b[0m\u001b[0;34m:\u001b[0m\u001b[0;34m\u001b[0m\u001b[0;34m\u001b[0m\u001b[0m\n\u001b[0;32m--> 205\u001b[0;31m             \u001b[0mself\u001b[0m\u001b[0;34m.\u001b[0m\u001b[0m_build\u001b[0m\u001b[0;34m(\u001b[0m\u001b[0;34m)\u001b[0m\u001b[0;34m\u001b[0m\u001b[0;34m\u001b[0m\u001b[0m\n\u001b[0m\u001b[1;32m    206\u001b[0m \u001b[0;34m\u001b[0m\u001b[0m\n\u001b[1;32m    207\u001b[0m             \u001b[0;31m# setup\u001b[0m\u001b[0;34m\u001b[0m\u001b[0;34m\u001b[0m\u001b[0;34m\u001b[0m\u001b[0m\n",
      "\u001b[0;32m~/opt/anaconda3/lib/python3.8/site-packages/plotnine/ggplot.py\u001b[0m in \u001b[0;36m_build\u001b[0;34m(self)\u001b[0m\n\u001b[1;32m    287\u001b[0m         \u001b[0;31m# Compute aesthetics to produce data with generalised\u001b[0m\u001b[0;34m\u001b[0m\u001b[0;34m\u001b[0m\u001b[0;34m\u001b[0m\u001b[0m\n\u001b[1;32m    288\u001b[0m         \u001b[0;31m# variable names\u001b[0m\u001b[0;34m\u001b[0m\u001b[0;34m\u001b[0m\u001b[0;34m\u001b[0m\u001b[0m\n\u001b[0;32m--> 289\u001b[0;31m         \u001b[0mlayers\u001b[0m\u001b[0;34m.\u001b[0m\u001b[0mcompute_aesthetics\u001b[0m\u001b[0;34m(\u001b[0m\u001b[0mself\u001b[0m\u001b[0;34m)\u001b[0m\u001b[0;34m\u001b[0m\u001b[0;34m\u001b[0m\u001b[0m\n\u001b[0m\u001b[1;32m    290\u001b[0m \u001b[0;34m\u001b[0m\u001b[0m\n\u001b[1;32m    291\u001b[0m         \u001b[0;31m# Transform data using all scales\u001b[0m\u001b[0;34m\u001b[0m\u001b[0;34m\u001b[0m\u001b[0;34m\u001b[0m\u001b[0m\n",
      "\u001b[0;32m~/opt/anaconda3/lib/python3.8/site-packages/plotnine/layer.py\u001b[0m in \u001b[0;36mcompute_aesthetics\u001b[0;34m(self, plot)\u001b[0m\n\u001b[1;32m     67\u001b[0m     \u001b[0;32mdef\u001b[0m \u001b[0mcompute_aesthetics\u001b[0m\u001b[0;34m(\u001b[0m\u001b[0mself\u001b[0m\u001b[0;34m,\u001b[0m \u001b[0mplot\u001b[0m\u001b[0;34m)\u001b[0m\u001b[0;34m:\u001b[0m\u001b[0;34m\u001b[0m\u001b[0;34m\u001b[0m\u001b[0m\n\u001b[1;32m     68\u001b[0m         \u001b[0;32mfor\u001b[0m \u001b[0ml\u001b[0m \u001b[0;32min\u001b[0m \u001b[0mself\u001b[0m\u001b[0;34m:\u001b[0m\u001b[0;34m\u001b[0m\u001b[0;34m\u001b[0m\u001b[0m\n\u001b[0;32m---> 69\u001b[0;31m             \u001b[0ml\u001b[0m\u001b[0;34m.\u001b[0m\u001b[0mcompute_aesthetics\u001b[0m\u001b[0;34m(\u001b[0m\u001b[0mplot\u001b[0m\u001b[0;34m)\u001b[0m\u001b[0;34m\u001b[0m\u001b[0;34m\u001b[0m\u001b[0m\n\u001b[0m\u001b[1;32m     70\u001b[0m \u001b[0;34m\u001b[0m\u001b[0m\n\u001b[1;32m     71\u001b[0m     \u001b[0;32mdef\u001b[0m \u001b[0mcompute_statistic\u001b[0m\u001b[0;34m(\u001b[0m\u001b[0mself\u001b[0m\u001b[0;34m,\u001b[0m \u001b[0mlayout\u001b[0m\u001b[0;34m)\u001b[0m\u001b[0;34m:\u001b[0m\u001b[0;34m\u001b[0m\u001b[0;34m\u001b[0m\u001b[0m\n",
      "\u001b[0;32m~/opt/anaconda3/lib/python3.8/site-packages/plotnine/layer.py\u001b[0m in \u001b[0;36mcompute_aesthetics\u001b[0;34m(self, plot)\u001b[0m\n\u001b[1;32m    299\u001b[0m         \u001b[0mexpression\u001b[0m \u001b[0mevaluation\u001b[0m \u001b[0mare\u001b[0m  \u001b[0mmade\u001b[0m \u001b[0;32min\u001b[0m \u001b[0mhere\u001b[0m\u001b[0;34m\u001b[0m\u001b[0;34m\u001b[0m\u001b[0m\n\u001b[1;32m    300\u001b[0m         \"\"\"\n\u001b[0;32m--> 301\u001b[0;31m         \u001b[0mevaled\u001b[0m \u001b[0;34m=\u001b[0m \u001b[0mevaluate\u001b[0m\u001b[0;34m(\u001b[0m\u001b[0mself\u001b[0m\u001b[0;34m.\u001b[0m\u001b[0mmapping\u001b[0m\u001b[0;34m.\u001b[0m\u001b[0m_starting\u001b[0m\u001b[0;34m,\u001b[0m \u001b[0mself\u001b[0m\u001b[0;34m.\u001b[0m\u001b[0mdata\u001b[0m\u001b[0;34m,\u001b[0m \u001b[0mplot\u001b[0m\u001b[0;34m.\u001b[0m\u001b[0menvironment\u001b[0m\u001b[0;34m)\u001b[0m\u001b[0;34m\u001b[0m\u001b[0;34m\u001b[0m\u001b[0m\n\u001b[0m\u001b[1;32m    302\u001b[0m         \u001b[0mevaled_aes\u001b[0m \u001b[0;34m=\u001b[0m \u001b[0maes\u001b[0m\u001b[0;34m(\u001b[0m\u001b[0;34m**\u001b[0m\u001b[0;34m{\u001b[0m\u001b[0mcol\u001b[0m\u001b[0;34m:\u001b[0m \u001b[0mcol\u001b[0m \u001b[0;32mfor\u001b[0m \u001b[0mcol\u001b[0m \u001b[0;32min\u001b[0m \u001b[0mevaled\u001b[0m\u001b[0;34m}\u001b[0m\u001b[0;34m)\u001b[0m\u001b[0;34m\u001b[0m\u001b[0;34m\u001b[0m\u001b[0m\n\u001b[1;32m    303\u001b[0m         \u001b[0mplot\u001b[0m\u001b[0;34m.\u001b[0m\u001b[0mscales\u001b[0m\u001b[0;34m.\u001b[0m\u001b[0madd_defaults\u001b[0m\u001b[0;34m(\u001b[0m\u001b[0mevaled\u001b[0m\u001b[0;34m,\u001b[0m \u001b[0mevaled_aes\u001b[0m\u001b[0;34m)\u001b[0m\u001b[0;34m\u001b[0m\u001b[0;34m\u001b[0m\u001b[0m\n",
      "\u001b[0;32m~/opt/anaconda3/lib/python3.8/site-packages/plotnine/mapping/evaluation.py\u001b[0m in \u001b[0;36mevaluate\u001b[0;34m(aesthetics, data, env)\u001b[0m\n\u001b[1;32m    217\u001b[0m                     \u001b[0mnew_val\u001b[0m \u001b[0;34m=\u001b[0m \u001b[0menv\u001b[0m\u001b[0;34m.\u001b[0m\u001b[0meval\u001b[0m\u001b[0;34m(\u001b[0m\u001b[0mcol\u001b[0m\u001b[0;34m,\u001b[0m \u001b[0minner_namespace\u001b[0m\u001b[0;34m=\u001b[0m\u001b[0mdata\u001b[0m\u001b[0;34m)\u001b[0m\u001b[0;34m\u001b[0m\u001b[0;34m\u001b[0m\u001b[0m\n\u001b[1;32m    218\u001b[0m                 \u001b[0;32mexcept\u001b[0m \u001b[0mException\u001b[0m \u001b[0;32mas\u001b[0m \u001b[0me\u001b[0m\u001b[0;34m:\u001b[0m\u001b[0;34m\u001b[0m\u001b[0;34m\u001b[0m\u001b[0m\n\u001b[0;32m--> 219\u001b[0;31m                     raise PlotnineError(\n\u001b[0m\u001b[1;32m    220\u001b[0m                         _TPL_EVAL_FAIL.format(ae, col, str(e)))\n\u001b[1;32m    221\u001b[0m \u001b[0;34m\u001b[0m\u001b[0m\n",
      "\u001b[0;31mPlotnineError\u001b[0m: \"Could not evaluate the 'y' mapping: 'age' (original error: name 'age' is not defined)\""
     ]
    }
   ],
   "source": [
    "ggplot(df_clean, aes(x='year', y='age', fill='age')) + \\\n",
    "    geom_boxplot()"
   ]
  },
  {
   "cell_type": "code",
   "execution_count": 10,
   "metadata": {
    "colab": {
     "base_uri": "https://localhost:8080/",
     "height": 502
    },
    "id": "wdcfztCJ1aHw",
    "outputId": "cd7126f4-68ba-445a-e908-ca1737742b81"
   },
   "outputs": [
    {
     "data": {
      "image/png": "[encoded data removed]",
      "text/plain": [
       "<Figure size 640x480 with 1 Axes>"
      ]
     },
     "metadata": {},
     "output_type": "display_data"
    },
    {
     "data": {
      "text/plain": [
       "<ggplot: (8769511897411)>"
      ]
     },
     "execution_count": 10,
     "metadata": {},
     "output_type": "execute_result"
    }
   ],
   "source": [
    "ggplot(df_clean, aes(x='year', y='duration_in_seconds')) + geom_point()"
   ]
  },
  {
   "cell_type": "code",
   "execution_count": 33,
   "metadata": {},
   "outputs": [
    {
     "name": "stderr",
     "output_type": "stream",
     "text": [
      "/Users/lucajoos/opt/anaconda3/lib/python3.8/site-packages/plotnine/layer.py:401: PlotnineWarning: geom_point : Removed 386 rows containing missing values.\n",
      "/Users/lucajoos/opt/anaconda3/lib/python3.8/site-packages/plotnine/layer.py:401: PlotnineWarning: geom_point : Removed 423 rows containing missing values.\n",
      "/Users/lucajoos/opt/anaconda3/lib/python3.8/site-packages/plotnine/layer.py:401: PlotnineWarning: geom_point : Removed 1043 rows containing missing values.\n",
      "/Users/lucajoos/opt/anaconda3/lib/python3.8/site-packages/plotnine/layer.py:401: PlotnineWarning: geom_point : Removed 968 rows containing missing values.\n"
     ]
    },
    {
     "data": {
      "image/png": "[encoded data removed]",
      "text/plain": [
       "<Figure size 640x480 with 1 Axes>"
      ]
     },
     "metadata": {},
     "output_type": "display_data"
    },
    {
     "data": {
      "text/plain": [
       "<ggplot: (8776877253973)>"
      ]
     },
     "execution_count": 33,
     "metadata": {},
     "output_type": "execute_result"
    }
   ],
   "source": [
    "ggplot(df_clean, aes(x='year')) + geom_point(aes(y = 'w_p1_age'), color = \"darkred\") + geom_point(aes(y = 'w_p2_age'), color = \"red\") +geom_point(aes(y = 'l_p1_age'), color = \"blue\") +geom_point(aes(y = 'l_p2_age'), color=\"steelblue\")"
   ]
  },
  {
   "cell_type": "code",
   "execution_count": null,
   "metadata": {},
   "outputs": [],
   "source": [
    "p = ggplot(df_clean, aes(x='year'))\n",
    "p + geom_point(aes(y = 'w_p1_age'), alpha = 0.2, color = 'darkblue') + \\\n",
    "geom_point(aes(y = 'w_p2_age'), alpha = 0.2, color = \"blue\") + \\\n",
    "geom_point(aes(y = 'l_p1_age'), alpha = 0.2, color = \"red\") + \\\n",
    "geom_point(aes(y = 'l_p2_age'), alpha = 0.2, color = \"darkred\") "
   ]
  },
  {
   "cell_type": "code",
   "execution_count": null,
   "metadata": {},
   "outputs": [
    {
     "data": {
      "text/plain": [
       "<AxesSubplot:xlabel='year'>"
      ]
     },
     "execution_count": 61,
     "metadata": {},
     "output_type": "execute_result"
    }
   ],
   "source": [
    "df_clean.plot(x=\"year\", y=[\"w_p1_age\", \"w_p2_age\", \"l_p1_age\", \"l_p2_age\"], kind=\"bar\")\n"
   ]
  },
  {
   "cell_type": "code",
   "execution_count": 63,
   "metadata": {},
   "outputs": [
    {
     "name": "stderr",
     "output_type": "stream",
     "text": [
      "/Users/lucajoos/opt/anaconda3/lib/python3.8/site-packages/plotnine/layer.py:401: PlotnineWarning: geom_point : Removed 968 rows containing missing values.\n"
     ]
    },
    {
     "data": {
      "image/png": "[encoded data removed]",
      "text/plain": [
       "<Figure size 640x480 with 1 Axes>"
      ]
     },
     "metadata": {},
     "output_type": "display_data"
    },
    {
     "data": {
      "text/plain": [
       "<ggplot: (8767648646979)>"
      ]
     },
     "execution_count": 63,
     "metadata": {},
     "output_type": "execute_result"
    }
   ],
   "source": [
    "ggplot(df_clean, aes(x='year', y='l_p2_age')) + geom_point()"
   ]
  },
  {
   "cell_type": "code",
   "execution_count": 25,
   "metadata": {
    "colab": {
     "base_uri": "https://localhost:8080/",
     "height": 469
    },
    "id": "d3Y7KpyF2C_U",
    "outputId": "273e0963-6579-41d2-afa5-80cd8b51e98c"
   },
   "outputs": [
    {
     "data": {
      "text/html": [
       "<div>\n",
       "<style scoped>\n",
       "    .dataframe tbody tr th:only-of-type {\n",
       "        vertical-align: middle;\n",
       "    }\n",
       "\n",
       "    .dataframe tbody tr th {\n",
       "        vertical-align: top;\n",
       "    }\n",
       "\n",
       "    .dataframe thead th {\n",
       "        text-align: right;\n",
       "    }\n",
       "</style>\n",
       "<table border=\"1\" class=\"dataframe\">\n",
       "  <thead>\n",
       "    <tr style=\"text-align: right;\">\n",
       "      <th></th>\n",
       "      <th>circuit</th>\n",
       "      <th>tournament</th>\n",
       "      <th>country</th>\n",
       "      <th>year</th>\n",
       "      <th>date</th>\n",
       "      <th>gender</th>\n",
       "      <th>match_num</th>\n",
       "      <th>w_player1</th>\n",
       "      <th>w_p1_birthdate</th>\n",
       "      <th>w_p1_age</th>\n",
       "      <th>...</th>\n",
       "      <th>l_p1_tot_digs</th>\n",
       "      <th>l_p2_tot_attacks</th>\n",
       "      <th>l_p2_tot_kills</th>\n",
       "      <th>l_p2_tot_errors</th>\n",
       "      <th>l_p2_tot_hitpct</th>\n",
       "      <th>l_p2_tot_aces</th>\n",
       "      <th>l_p2_tot_serve_errors</th>\n",
       "      <th>l_p2_tot_blocks</th>\n",
       "      <th>l_p2_tot_digs</th>\n",
       "      <th>duration_in_seconds</th>\n",
       "    </tr>\n",
       "  </thead>\n",
       "  <tbody>\n",
       "    <tr>\n",
       "      <th>0</th>\n",
       "      <td>AVP</td>\n",
       "      <td>Huntington Beach</td>\n",
       "      <td>United States</td>\n",
       "      <td>2002</td>\n",
       "      <td>2002-05-24</td>\n",
       "      <td>M</td>\n",
       "      <td>1</td>\n",
       "      <td>Kevin Wong</td>\n",
       "      <td>1972-09-12</td>\n",
       "      <td>29.694730</td>\n",
       "      <td>...</td>\n",
       "      <td>NaN</td>\n",
       "      <td>NaN</td>\n",
       "      <td>NaN</td>\n",
       "      <td>NaN</td>\n",
       "      <td>NaN</td>\n",
       "      <td>0.0</td>\n",
       "      <td>NaN</td>\n",
       "      <td>1.0</td>\n",
       "      <td>NaN</td>\n",
       "      <td>1980</td>\n",
       "    </tr>\n",
       "    <tr>\n",
       "      <th>16</th>\n",
       "      <td>AVP</td>\n",
       "      <td>Huntington Beach</td>\n",
       "      <td>United States</td>\n",
       "      <td>2002</td>\n",
       "      <td>2002-05-24</td>\n",
       "      <td>M</td>\n",
       "      <td>17</td>\n",
       "      <td>Kevin Wong</td>\n",
       "      <td>1972-09-12</td>\n",
       "      <td>29.694730</td>\n",
       "      <td>...</td>\n",
       "      <td>NaN</td>\n",
       "      <td>NaN</td>\n",
       "      <td>NaN</td>\n",
       "      <td>NaN</td>\n",
       "      <td>NaN</td>\n",
       "      <td>1.0</td>\n",
       "      <td>NaN</td>\n",
       "      <td>0.0</td>\n",
       "      <td>NaN</td>\n",
       "      <td>2340</td>\n",
       "    </tr>\n",
       "    <tr>\n",
       "      <th>24</th>\n",
       "      <td>AVP</td>\n",
       "      <td>Huntington Beach</td>\n",
       "      <td>United States</td>\n",
       "      <td>2002</td>\n",
       "      <td>2002-05-24</td>\n",
       "      <td>M</td>\n",
       "      <td>25</td>\n",
       "      <td>Kevin Wong</td>\n",
       "      <td>1972-09-12</td>\n",
       "      <td>29.694730</td>\n",
       "      <td>...</td>\n",
       "      <td>NaN</td>\n",
       "      <td>NaN</td>\n",
       "      <td>NaN</td>\n",
       "      <td>NaN</td>\n",
       "      <td>NaN</td>\n",
       "      <td>0.0</td>\n",
       "      <td>NaN</td>\n",
       "      <td>0.0</td>\n",
       "      <td>NaN</td>\n",
       "      <td>3900</td>\n",
       "    </tr>\n",
       "    <tr>\n",
       "      <th>57</th>\n",
       "      <td>AVP</td>\n",
       "      <td>Huntington Beach</td>\n",
       "      <td>United States</td>\n",
       "      <td>2002</td>\n",
       "      <td>2002-05-24</td>\n",
       "      <td>M</td>\n",
       "      <td>58</td>\n",
       "      <td>Kevin Wong</td>\n",
       "      <td>1972-09-12</td>\n",
       "      <td>29.694730</td>\n",
       "      <td>...</td>\n",
       "      <td>NaN</td>\n",
       "      <td>NaN</td>\n",
       "      <td>NaN</td>\n",
       "      <td>NaN</td>\n",
       "      <td>NaN</td>\n",
       "      <td>0.0</td>\n",
       "      <td>NaN</td>\n",
       "      <td>1.0</td>\n",
       "      <td>NaN</td>\n",
       "      <td>3120</td>\n",
       "    </tr>\n",
       "    <tr>\n",
       "      <th>106</th>\n",
       "      <td>AVP</td>\n",
       "      <td>Hermosa Beach</td>\n",
       "      <td>United States</td>\n",
       "      <td>2002</td>\n",
       "      <td>2002-06-07</td>\n",
       "      <td>M</td>\n",
       "      <td>1</td>\n",
       "      <td>Kevin Wong</td>\n",
       "      <td>1972-09-12</td>\n",
       "      <td>29.733059</td>\n",
       "      <td>...</td>\n",
       "      <td>NaN</td>\n",
       "      <td>NaN</td>\n",
       "      <td>NaN</td>\n",
       "      <td>NaN</td>\n",
       "      <td>NaN</td>\n",
       "      <td>0.0</td>\n",
       "      <td>NaN</td>\n",
       "      <td>0.0</td>\n",
       "      <td>NaN</td>\n",
       "      <td>2040</td>\n",
       "    </tr>\n",
       "    <tr>\n",
       "      <th>...</th>\n",
       "      <td>...</td>\n",
       "      <td>...</td>\n",
       "      <td>...</td>\n",
       "      <td>...</td>\n",
       "      <td>...</td>\n",
       "      <td>...</td>\n",
       "      <td>...</td>\n",
       "      <td>...</td>\n",
       "      <td>...</td>\n",
       "      <td>...</td>\n",
       "      <td>...</td>\n",
       "      <td>...</td>\n",
       "      <td>...</td>\n",
       "      <td>...</td>\n",
       "      <td>...</td>\n",
       "      <td>...</td>\n",
       "      <td>...</td>\n",
       "      <td>...</td>\n",
       "      <td>...</td>\n",
       "      <td>...</td>\n",
       "      <td>...</td>\n",
       "    </tr>\n",
       "    <tr>\n",
       "      <th>35804</th>\n",
       "      <td>FIVB</td>\n",
       "      <td>Klagenfurt</td>\n",
       "      <td>Austria</td>\n",
       "      <td>2006</td>\n",
       "      <td>2006-08-02</td>\n",
       "      <td>M</td>\n",
       "      <td>52</td>\n",
       "      <td>Kevin Wong</td>\n",
       "      <td>1972-09-12</td>\n",
       "      <td>33.886379</td>\n",
       "      <td>...</td>\n",
       "      <td>NaN</td>\n",
       "      <td>NaN</td>\n",
       "      <td>NaN</td>\n",
       "      <td>NaN</td>\n",
       "      <td>NaN</td>\n",
       "      <td>NaN</td>\n",
       "      <td>NaN</td>\n",
       "      <td>NaN</td>\n",
       "      <td>NaN</td>\n",
       "      <td>2820</td>\n",
       "    </tr>\n",
       "    <tr>\n",
       "      <th>35842</th>\n",
       "      <td>FIVB</td>\n",
       "      <td>Klagenfurt</td>\n",
       "      <td>Austria</td>\n",
       "      <td>2006</td>\n",
       "      <td>2006-08-02</td>\n",
       "      <td>M</td>\n",
       "      <td>28</td>\n",
       "      <td>Kevin Wong</td>\n",
       "      <td>1972-09-12</td>\n",
       "      <td>33.886379</td>\n",
       "      <td>...</td>\n",
       "      <td>NaN</td>\n",
       "      <td>NaN</td>\n",
       "      <td>NaN</td>\n",
       "      <td>NaN</td>\n",
       "      <td>NaN</td>\n",
       "      <td>NaN</td>\n",
       "      <td>NaN</td>\n",
       "      <td>NaN</td>\n",
       "      <td>NaN</td>\n",
       "      <td>2580</td>\n",
       "    </tr>\n",
       "    <tr>\n",
       "      <th>35864</th>\n",
       "      <td>FIVB</td>\n",
       "      <td>Klagenfurt</td>\n",
       "      <td>Austria</td>\n",
       "      <td>2006</td>\n",
       "      <td>2006-08-02</td>\n",
       "      <td>M</td>\n",
       "      <td>56</td>\n",
       "      <td>Kevin Wong</td>\n",
       "      <td>1972-09-12</td>\n",
       "      <td>33.886379</td>\n",
       "      <td>...</td>\n",
       "      <td>NaN</td>\n",
       "      <td>NaN</td>\n",
       "      <td>NaN</td>\n",
       "      <td>NaN</td>\n",
       "      <td>NaN</td>\n",
       "      <td>NaN</td>\n",
       "      <td>NaN</td>\n",
       "      <td>NaN</td>\n",
       "      <td>NaN</td>\n",
       "      <td>4320</td>\n",
       "    </tr>\n",
       "    <tr>\n",
       "      <th>36194</th>\n",
       "      <td>FIVB</td>\n",
       "      <td>Acapulco</td>\n",
       "      <td>Mexico</td>\n",
       "      <td>2006</td>\n",
       "      <td>2006-10-24</td>\n",
       "      <td>M</td>\n",
       "      <td>31</td>\n",
       "      <td>Kevin Wong</td>\n",
       "      <td>1972-09-12</td>\n",
       "      <td>34.113621</td>\n",
       "      <td>...</td>\n",
       "      <td>NaN</td>\n",
       "      <td>NaN</td>\n",
       "      <td>NaN</td>\n",
       "      <td>NaN</td>\n",
       "      <td>NaN</td>\n",
       "      <td>NaN</td>\n",
       "      <td>NaN</td>\n",
       "      <td>NaN</td>\n",
       "      <td>NaN</td>\n",
       "      <td>2460</td>\n",
       "    </tr>\n",
       "    <tr>\n",
       "      <th>36202</th>\n",
       "      <td>FIVB</td>\n",
       "      <td>Acapulco</td>\n",
       "      <td>Mexico</td>\n",
       "      <td>2006</td>\n",
       "      <td>2006-10-24</td>\n",
       "      <td>M</td>\n",
       "      <td>39</td>\n",
       "      <td>Kevin Wong</td>\n",
       "      <td>1972-09-12</td>\n",
       "      <td>34.113621</td>\n",
       "      <td>...</td>\n",
       "      <td>NaN</td>\n",
       "      <td>NaN</td>\n",
       "      <td>NaN</td>\n",
       "      <td>NaN</td>\n",
       "      <td>NaN</td>\n",
       "      <td>NaN</td>\n",
       "      <td>NaN</td>\n",
       "      <td>NaN</td>\n",
       "      <td>NaN</td>\n",
       "      <td>4620</td>\n",
       "    </tr>\n",
       "  </tbody>\n",
       "</table>\n",
       "<p>257 rows × 66 columns</p>\n",
       "</div>"
      ],
      "text/plain": [
       "      circuit        tournament        country  year        date gender  \\\n",
       "0         AVP  Huntington Beach  United States  2002  2002-05-24      M   \n",
       "16        AVP  Huntington Beach  United States  2002  2002-05-24      M   \n",
       "24        AVP  Huntington Beach  United States  2002  2002-05-24      M   \n",
       "57        AVP  Huntington Beach  United States  2002  2002-05-24      M   \n",
       "106       AVP     Hermosa Beach  United States  2002  2002-06-07      M   \n",
       "...       ...               ...            ...   ...         ...    ...   \n",
       "35804    FIVB        Klagenfurt        Austria  2006  2006-08-02      M   \n",
       "35842    FIVB        Klagenfurt        Austria  2006  2006-08-02      M   \n",
       "35864    FIVB        Klagenfurt        Austria  2006  2006-08-02      M   \n",
       "36194    FIVB          Acapulco         Mexico  2006  2006-10-24      M   \n",
       "36202    FIVB          Acapulco         Mexico  2006  2006-10-24      M   \n",
       "\n",
       "       match_num   w_player1 w_p1_birthdate   w_p1_age  ...  l_p1_tot_digs  \\\n",
       "0              1  Kevin Wong     1972-09-12  29.694730  ...            NaN   \n",
       "16            17  Kevin Wong     1972-09-12  29.694730  ...            NaN   \n",
       "24            25  Kevin Wong     1972-09-12  29.694730  ...            NaN   \n",
       "57            58  Kevin Wong     1972-09-12  29.694730  ...            NaN   \n",
       "106            1  Kevin Wong     1972-09-12  29.733059  ...            NaN   \n",
       "...          ...         ...            ...        ...  ...            ...   \n",
       "35804         52  Kevin Wong     1972-09-12  33.886379  ...            NaN   \n",
       "35842         28  Kevin Wong     1972-09-12  33.886379  ...            NaN   \n",
       "35864         56  Kevin Wong     1972-09-12  33.886379  ...            NaN   \n",
       "36194         31  Kevin Wong     1972-09-12  34.113621  ...            NaN   \n",
       "36202         39  Kevin Wong     1972-09-12  34.113621  ...            NaN   \n",
       "\n",
       "      l_p2_tot_attacks l_p2_tot_kills l_p2_tot_errors  l_p2_tot_hitpct  \\\n",
       "0                  NaN            NaN             NaN              NaN   \n",
       "16                 NaN            NaN             NaN              NaN   \n",
       "24                 NaN            NaN             NaN              NaN   \n",
       "57                 NaN            NaN             NaN              NaN   \n",
       "106                NaN            NaN             NaN              NaN   \n",
       "...                ...            ...             ...              ...   \n",
       "35804              NaN            NaN             NaN              NaN   \n",
       "35842              NaN            NaN             NaN              NaN   \n",
       "35864              NaN            NaN             NaN              NaN   \n",
       "36194              NaN            NaN             NaN              NaN   \n",
       "36202              NaN            NaN             NaN              NaN   \n",
       "\n",
       "       l_p2_tot_aces l_p2_tot_serve_errors l_p2_tot_blocks l_p2_tot_digs  \\\n",
       "0                0.0                   NaN             1.0           NaN   \n",
       "16               1.0                   NaN             0.0           NaN   \n",
       "24               0.0                   NaN             0.0           NaN   \n",
       "57               0.0                   NaN             1.0           NaN   \n",
       "106              0.0                   NaN             0.0           NaN   \n",
       "...              ...                   ...             ...           ...   \n",
       "35804            NaN                   NaN             NaN           NaN   \n",
       "35842            NaN                   NaN             NaN           NaN   \n",
       "35864            NaN                   NaN             NaN           NaN   \n",
       "36194            NaN                   NaN             NaN           NaN   \n",
       "36202            NaN                   NaN             NaN           NaN   \n",
       "\n",
       "      duration_in_seconds  \n",
       "0                    1980  \n",
       "16                   2340  \n",
       "24                   3900  \n",
       "57                   3120  \n",
       "106                  2040  \n",
       "...                   ...  \n",
       "35804                2820  \n",
       "35842                2580  \n",
       "35864                4320  \n",
       "36194                2460  \n",
       "36202                4620  \n",
       "\n",
       "[257 rows x 66 columns]"
      ]
     },
     "execution_count": 25,
     "metadata": {},
     "output_type": "execute_result"
    }
   ],
   "source": [
    "df_clean.loc[df_clean['w_player1'] == 'Kevin Wong']"
   ]
  },
  {
   "cell_type": "code",
   "execution_count": 34,
   "metadata": {},
   "outputs": [
    {
     "data": {
      "text/plain": [
       "67.7645448"
      ]
     },
     "execution_count": 34,
     "metadata": {},
     "output_type": "execute_result"
    }
   ],
   "source": [
    "df_clean['l_p2_age'].max()"
   ]
  },
  {
   "cell_type": "code",
   "execution_count": 38,
   "metadata": {},
   "outputs": [
    {
     "data": {
      "text/plain": [
       "'Steven Cahn'"
      ]
     },
     "execution_count": 38,
     "metadata": {},
     "output_type": "execute_result"
    }
   ],
   "source": [
    "df_clean['l_player2'].loc[df_clean['l_p2_age'].idxmax()]"
   ]
  },
  {
   "cell_type": "markdown",
   "metadata": {},
   "source": [
    "### Unique Circuits ###"
   ]
  },
  {
   "cell_type": "code",
   "execution_count": 49,
   "metadata": {},
   "outputs": [
    {
     "name": "stdout",
     "output_type": "stream",
     "text": [
      "['AVP' 'FIVB']\n"
     ]
    }
   ],
   "source": [
    "print(pd.unique(df_clean['circuit']))"
   ]
  },
  {
   "cell_type": "markdown",
   "metadata": {},
   "source": [
    "### Unique Tournament Places ###"
   ]
  },
  {
   "cell_type": "code",
   "execution_count": 48,
   "metadata": {},
   "outputs": [
    {
     "name": "stdout",
     "output_type": "stream",
     "text": [
      "['Huntington Beach' 'Hermosa Beach' 'Santa Barbara' 'Belmar'\n",
      " 'Manhattan Beach' 'Chicago' 'Las Vegas' 'Fort Lauderdale' 'Tempe'\n",
      " 'San Diego' 'Austin' 'Honolulu' 'Mason' 'Boulder' 'Sacramento'\n",
      " 'Seaside Heights' 'Atlanta' 'Birmingham' 'Brooklyn' 'Lake Tahoe' 'Miami'\n",
      " 'Dallas' 'Glendale' 'Louisville' 'Tampa' 'Charleston' 'Long Beach'\n",
      " 'Boston' 'San Francisco' 'Panama City' 'Riverside' 'Houston' 'Ocean City'\n",
      " 'Muskegon' 'Virginia Beach' 'Salt Lake City' 'Cincinnati' 'Atlantic City'\n",
      " 'St. Petersburg' 'Milwaukee' 'New Orleans' 'New York' 'Seattle' 'Sydney'\n",
      " 'Macau' 'Cagliari' 'Tenerife' 'Gstaad' 'Berlin' 'Stavanger'\n",
      " 'Gran Canaria' 'Lignano' 'Marseille' 'Espinho' 'Klagenfurt' 'Osaka'\n",
      " 'Ostende' 'Maoming' 'Hong Kong' 'Brisbane' 'Mallorca' 'Fortaleza'\n",
      " 'Madrid' 'Rhodes' 'Cadiz' 'Lianyungang' 'Bali' 'Milan' 'Carson'\n",
      " 'Rio de Janeiro' 'Salvador' 'Cape Town' 'Budva' 'Shanghai'\n",
      " 'Carolina Beach' 'Stare Jablonki' 'Athens' 'Zagreb' 'Paris' 'Acapulco'\n",
      " 'Modena' 'Roseto degli Abruzzi' 'Warsaw' 'Porto Santo' 'Phuket' 'Manama'\n",
      " 'Sentosa' 'Seoul' 'Kristiansand' 'Adelaide' 'Prague' 'Barcelona' 'Moscow'\n",
      " 'Beijing' 'Myslowice' 'Dubai' 'Sanya' 'Rome' 'The Hague' 'Agadir'\n",
      " 'London' 'Bang Saen' 'Fuzhou' 'Corrientes' 'Anapa' 'Xiamen' 'Durban'\n",
      " 'Puerto Vallarta' 'Doha' 'Mangaung' 'Lucerne' 'Porec' 'Yokohama'\n",
      " 'Olsztyn' 'Sochi' 'Antalya' 'Kish Island' 'Hamburg' 'Toronto'\n",
      " 'Shepparton' 'Langkawi' 'Tangshan Jiangning' 'Principality of Monaco'\n",
      " 'Nantong' 'Daegu' 'Ulsan' 'Vienna' 'Montpellier' 'Qinzhou' 'Aalsmeer'\n",
      " 'Muscat' 'Satun' 'Mersin' 'Manila' 'Phnom Penh' 'Tuan Chau Island'\n",
      " 'Bangkok' 'Itapema' 'Aydin' 'Miguel Pereira' 'Jinjiang' 'Alanya'\n",
      " 'Nanjing' 'Baden' 'Ostrava' 'Manavgat' 'Haiyang' 'Tokyo' 'Samsun'\n",
      " 'Ljubljana' 'Vaduz' 'Waikiki' 'Siofok' 'Zhongwei' 'Bandar Torkaman'\n",
      " 'Yangzhou' 'Babolsar' 'Bandar Anzali' 'Chetumal' 'Visakhapatnam'\n",
      " 'Kampong Speu' 'Siem Reap' 'Battambang' 'Kuala Lumpur' 'Boracay' 'Ios'\n",
      " 'Qidong' 'Alba Adriatica' 'Edmonton' 'Pinarella di Cervia' 'Malbork'\n",
      " 'Budapest' 'Knokke-Heist' 'Rubavu' 'Jurmala' 'Salalah' 'Oslo' 'Tel Aviv'\n",
      " 'Qeshm' 'Cook Islands' 'Guam' 'Vilnius' 'Cancun' 'Sofia' 'Leuven' 'Brno'\n",
      " 'Koropove' 'Cervia' 'Apeldoorn' 'Nijmegen']\n"
     ]
    }
   ],
   "source": [
    "print(pd.unique(df_clean['tournament']))"
   ]
  },
  {
   "cell_type": "markdown",
   "metadata": {
    "id": "NF3y4_ae1rLG"
   },
   "source": [
    "# Marketing in Beachvolley"
   ]
  },
  {
   "cell_type": "markdown",
   "metadata": {
    "id": "DfBYaBjy8edi"
   },
   "source": [
    "# Beachvolley Onthology\n"
   ]
  }
 ],
 "metadata": {
  "colab": {
   "collapsed_sections": [],
   "name": "Beach_Volley.ipynb",
   "provenance": []
  },
  "kernelspec": {
   "display_name": "Python 3",
   "language": "python",
   "name": "python3"
  },
  "language_info": {
   "codemirror_mode": {
    "name": "ipython",
    "version": 3
   },
   "file_extension": ".py",
   "mimetype": "text/x-python",
   "name": "python",
   "nbconvert_exporter": "python",
   "pygments_lexer": "ipython3",
   "version": "3.8.8"
  },
  "toc": {
   "base_numbering": 1,
   "nav_menu": {},
   "number_sections": true,
   "sideBar": true,
   "skip_h1_title": false,
   "title_cell": "Table of Contents",
   "title_sidebar": "Contents",
   "toc_cell": false,
   "toc_position": {},
   "toc_section_display": true,
   "toc_window_display": false
  }
 },
 "nbformat": 4,
 "nbformat_minor": 1
}
