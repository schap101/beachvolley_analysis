{
 "cells": [
  {
   "cell_type": "code",
   "execution_count": 23,
   "id": "3472279f",
   "metadata": {},
   "outputs": [
    {
     "data": {
      "text/html": [
       "<style>.container { width:80% !important; }</style>"
      ],
      "text/plain": [
       "<IPython.core.display.HTML object>"
      ]
     },
     "metadata": {},
     "output_type": "display_data"
    }
   ],
   "source": [
    "from IPython.core.display import display, HTML\n",
    "display(HTML(\"<style>.container { width:80% !important; }</style>\"))"
   ]
  },
  {
   "cell_type": "markdown",
   "id": "cce1298f",
   "metadata": {},
   "source": [
    "# Beach Volleyball #\n",
    "\n",
    "**Authors:** Philipp Schaad & Luca Joos (both 4th Semester)  \n",
    "**Module:** Sports Data Analytics  \n",
    "**Organisation:** Lucerne University of Applied Sciences and Arts  \n",
    "**Lecturer:** Martin Rumo  "
   ]
  },
  {
   "cell_type": "code",
   "execution_count": 24,
   "id": "3c3ee1d4",
   "metadata": {},
   "outputs": [
    {
     "data": {
      "text/html": [
       "<img src=\"https://images.unsplash.com/photo-1556732282-595ef530909c?ixlib=rb-1.2.1&ixid=MnwxMjA3fDB8MHxwaG90by1wYWdlfHx8fGVufDB8fHx8&auto=format&fit=crop&w=4470&q=80\" width=\"5000\" height=\"40\"/>"
      ],
      "text/plain": [
       "<IPython.core.display.Image object>"
      ]
     },
     "execution_count": 24,
     "metadata": {},
     "output_type": "execute_result"
    }
   ],
   "source": [
    "from IPython.display import Image\n",
    "from IPython.core.display import HTML \n",
    "Image(url= \"https://images.unsplash.com/photo-1556732282-595ef530909c?ixlib=rb-1.2.1&ixid=MnwxMjA3fDB8MHxwaG90by1wYWdlfHx8fGVufDB8fHx8&auto=format&fit=crop&w=4470&q=80\", width=5000, height=40)"
   ]
  },
  {
   "cell_type": "markdown",
   "id": "eeb7ec8e",
   "metadata": {},
   "source": [
    "# Table of Content #"
   ]
  },
  {
   "cell_type": "code",
   "execution_count": null,
   "id": "c209eba7",
   "metadata": {},
   "outputs": [],
   "source": []
  },
  {
   "cell_type": "markdown",
   "id": "6552d4df",
   "metadata": {},
   "source": [
    "# History of Beach Volleyball #\n",
    "\n",
    "It is a sport mostly a with associated with summer, beach, good vibes and vacations. No wonder as it was invented in Waikiki beach probably around 1915 (https://en.wikipedia.org/wiki/Beach_volleyball#History). It is a version of indoor volleyball with some modified rules. It is played with teams of two, on soft sand. The highest governing body for beach volleyball is the FIVB. It is a lot of fun to play during the warm summer days and it is also fascinating to watch professional players perform. From a spectators point of view, there are not many statistical and explanatory elements incorporated when beach volleyball is broadcasted. Therefore for our dossier we analysed beach volleyball and tried to find ideas to make it even more interesting to watch. Additionally, we analyse some historic beach volleyball match data between 2002 and 2021 to visually see how the sport developed. It seems that beach volleyball is not yet so heavily analysed, at least not from a spectators point of view. Thus we developed a first idea of a beach volleyball ontology as well as a flowchart for a set."
   ]
  },
  {
   "cell_type": "markdown",
   "id": "a2c837be",
   "metadata": {},
   "source": [
    "# Ontology #\n",
    "\n",
    "| Event | Quantity | Attributes | Question to be answered with the attribute |\n",
    "| :- | :- | :- | :- |\n",
    "| Career | 1 | Player | |"
   ]
  },
  {
   "cell_type": "code",
   "execution_count": null,
   "id": "e97c9b73",
   "metadata": {},
   "outputs": [],
   "source": []
  }
 ],
 "metadata": {
  "kernelspec": {
   "display_name": "Python 3",
   "language": "python",
   "name": "python3"
  },
  "language_info": {
   "codemirror_mode": {
    "name": "ipython",
    "version": 3
   },
   "file_extension": ".py",
   "mimetype": "text/x-python",
   "name": "python",
   "nbconvert_exporter": "python",
   "pygments_lexer": "ipython3",
   "version": "3.8.8"
  },
  "toc": {
   "base_numbering": 1,
   "nav_menu": {},
   "number_sections": true,
   "sideBar": true,
   "skip_h1_title": false,
   "title_cell": "Table of Contents",
   "title_sidebar": "Contents",
   "toc_cell": false,
   "toc_position": {},
   "toc_section_display": true,
   "toc_window_display": false
  }
 },
 "nbformat": 4,
 "nbformat_minor": 5
}
